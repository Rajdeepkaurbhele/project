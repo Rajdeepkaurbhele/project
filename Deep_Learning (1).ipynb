{
  "nbformat": 4,
  "nbformat_minor": 0,
  "metadata": {
    "colab": {
      "provenance": [],
      "collapsed_sections": []
    },
    "kernelspec": {
      "name": "python3",
      "display_name": "Python 3"
    },
    "language_info": {
      "name": "python"
    }
  },
  "cells": [
    {
      "cell_type": "code",
      "execution_count": 1,
      "metadata": {
        "id": "jXMJsLjHk2kB"
      },
      "outputs": [],
      "source": [
        "import pandas as pd\n",
        "import tensorflow\n",
        "import numpy as np\n",
        "import matplotlib.pyplot as plt\n",
        "%matplotlib inline\n",
        "from sklearn.preprocessing import RobustScaler #Scaling the features\n",
        "import tensorflow as tf\n",
        "from tensorflow import keras\n",
        "from tensorflow.keras import Sequential\n",
        "from tensorflow.keras.layers import Flatten, Dense, Dropout, BatchNormalization\n",
        "from tensorflow.keras.layers import Conv1D, MaxPool1D\n",
        "from tensorflow.keras.optimizers import Adam\n",
        "import pandas as pd\n",
        "import numpy as np\n",
        "import  seaborn as sns\n",
        "import matplotlib.pyplot as plt\n",
        "from sklearn.model_selection import train_test_split\n",
        "from sklearn.preprocessing import StandardScaler\n",
        "import pandas as pd\n",
        "import numpy as np\n",
        "import keras\n",
        "from matplotlib import pyplot as plt\n",
        "import sklearn.utils\n",
        "from sklearn.preprocessing import RobustScaler #Scaling the features\n",
        "from sklearn.model_selection import StratifiedShuffleSplit #Splitting the dataset\n",
        "from sklearn.metrics import accuracy_score, classification_report, confusion_matrix, make_scorer, precision_score, recall_score, f1_score, roc_auc_score, roc_curve, precision_recall_curve, average_precision_score, auc\n",
        "from sklearn.model_selection import GridSearchCV #hyperparameter tuning\n",
        "from sklearn.decomposition import PCA\n",
        "\n"
      ]
    },
    {
      "cell_type": "code",
      "source": [
        "# Load dataset\n",
        "df = pd.read_csv(\"creditcard.csv\")"
      ],
      "metadata": {
        "id": "YOzd_XQ1mPZH"
      },
      "execution_count": 2,
      "outputs": []
    },
    {
      "cell_type": "code",
      "source": [
        "# Visualization of data\n",
        "df.head()"
      ],
      "metadata": {
        "colab": {
          "base_uri": "https://localhost:8080/",
          "height": 299
        },
        "id": "IMEnrs_3z3Mr",
        "outputId": "3885ad5a-b653-47dc-cc3e-f5c51caefaff"
      },
      "execution_count": 3,
      "outputs": [
        {
          "output_type": "execute_result",
          "data": {
            "text/plain": [
              "   Time        V1        V2        V3        V4        V5        V6        V7  \\\n",
              "0   0.0 -1.359807 -0.072781  2.536347  1.378155 -0.338321  0.462388  0.239599   \n",
              "1   0.0  1.191857  0.266151  0.166480  0.448154  0.060018 -0.082361 -0.078803   \n",
              "2   1.0 -1.358354 -1.340163  1.773209  0.379780 -0.503198  1.800499  0.791461   \n",
              "3   1.0 -0.966272 -0.185226  1.792993 -0.863291 -0.010309  1.247203  0.237609   \n",
              "4   2.0 -1.158233  0.877737  1.548718  0.403034 -0.407193  0.095921  0.592941   \n",
              "\n",
              "         V8        V9  ...       V21       V22       V23       V24       V25  \\\n",
              "0  0.098698  0.363787  ... -0.018307  0.277838 -0.110474  0.066928  0.128539   \n",
              "1  0.085102 -0.255425  ... -0.225775 -0.638672  0.101288 -0.339846  0.167170   \n",
              "2  0.247676 -1.514654  ...  0.247998  0.771679  0.909412 -0.689281 -0.327642   \n",
              "3  0.377436 -1.387024  ... -0.108300  0.005274 -0.190321 -1.175575  0.647376   \n",
              "4 -0.270533  0.817739  ... -0.009431  0.798278 -0.137458  0.141267 -0.206010   \n",
              "\n",
              "        V26       V27       V28  Amount  Class  \n",
              "0 -0.189115  0.133558 -0.021053  149.62      0  \n",
              "1  0.125895 -0.008983  0.014724    2.69      0  \n",
              "2 -0.139097 -0.055353 -0.059752  378.66      0  \n",
              "3 -0.221929  0.062723  0.061458  123.50      0  \n",
              "4  0.502292  0.219422  0.215153   69.99      0  \n",
              "\n",
              "[5 rows x 31 columns]"
            ],
            "text/html": [
              "\n",
              "  <div id=\"df-64fe7859-bc26-497e-9a6b-3865cff492c1\">\n",
              "    <div class=\"colab-df-container\">\n",
              "      <div>\n",
              "<style scoped>\n",
              "    .dataframe tbody tr th:only-of-type {\n",
              "        vertical-align: middle;\n",
              "    }\n",
              "\n",
              "    .dataframe tbody tr th {\n",
              "        vertical-align: top;\n",
              "    }\n",
              "\n",
              "    .dataframe thead th {\n",
              "        text-align: right;\n",
              "    }\n",
              "</style>\n",
              "<table border=\"1\" class=\"dataframe\">\n",
              "  <thead>\n",
              "    <tr style=\"text-align: right;\">\n",
              "      <th></th>\n",
              "      <th>Time</th>\n",
              "      <th>V1</th>\n",
              "      <th>V2</th>\n",
              "      <th>V3</th>\n",
              "      <th>V4</th>\n",
              "      <th>V5</th>\n",
              "      <th>V6</th>\n",
              "      <th>V7</th>\n",
              "      <th>V8</th>\n",
              "      <th>V9</th>\n",
              "      <th>...</th>\n",
              "      <th>V21</th>\n",
              "      <th>V22</th>\n",
              "      <th>V23</th>\n",
              "      <th>V24</th>\n",
              "      <th>V25</th>\n",
              "      <th>V26</th>\n",
              "      <th>V27</th>\n",
              "      <th>V28</th>\n",
              "      <th>Amount</th>\n",
              "      <th>Class</th>\n",
              "    </tr>\n",
              "  </thead>\n",
              "  <tbody>\n",
              "    <tr>\n",
              "      <th>0</th>\n",
              "      <td>0.0</td>\n",
              "      <td>-1.359807</td>\n",
              "      <td>-0.072781</td>\n",
              "      <td>2.536347</td>\n",
              "      <td>1.378155</td>\n",
              "      <td>-0.338321</td>\n",
              "      <td>0.462388</td>\n",
              "      <td>0.239599</td>\n",
              "      <td>0.098698</td>\n",
              "      <td>0.363787</td>\n",
              "      <td>...</td>\n",
              "      <td>-0.018307</td>\n",
              "      <td>0.277838</td>\n",
              "      <td>-0.110474</td>\n",
              "      <td>0.066928</td>\n",
              "      <td>0.128539</td>\n",
              "      <td>-0.189115</td>\n",
              "      <td>0.133558</td>\n",
              "      <td>-0.021053</td>\n",
              "      <td>149.62</td>\n",
              "      <td>0</td>\n",
              "    </tr>\n",
              "    <tr>\n",
              "      <th>1</th>\n",
              "      <td>0.0</td>\n",
              "      <td>1.191857</td>\n",
              "      <td>0.266151</td>\n",
              "      <td>0.166480</td>\n",
              "      <td>0.448154</td>\n",
              "      <td>0.060018</td>\n",
              "      <td>-0.082361</td>\n",
              "      <td>-0.078803</td>\n",
              "      <td>0.085102</td>\n",
              "      <td>-0.255425</td>\n",
              "      <td>...</td>\n",
              "      <td>-0.225775</td>\n",
              "      <td>-0.638672</td>\n",
              "      <td>0.101288</td>\n",
              "      <td>-0.339846</td>\n",
              "      <td>0.167170</td>\n",
              "      <td>0.125895</td>\n",
              "      <td>-0.008983</td>\n",
              "      <td>0.014724</td>\n",
              "      <td>2.69</td>\n",
              "      <td>0</td>\n",
              "    </tr>\n",
              "    <tr>\n",
              "      <th>2</th>\n",
              "      <td>1.0</td>\n",
              "      <td>-1.358354</td>\n",
              "      <td>-1.340163</td>\n",
              "      <td>1.773209</td>\n",
              "      <td>0.379780</td>\n",
              "      <td>-0.503198</td>\n",
              "      <td>1.800499</td>\n",
              "      <td>0.791461</td>\n",
              "      <td>0.247676</td>\n",
              "      <td>-1.514654</td>\n",
              "      <td>...</td>\n",
              "      <td>0.247998</td>\n",
              "      <td>0.771679</td>\n",
              "      <td>0.909412</td>\n",
              "      <td>-0.689281</td>\n",
              "      <td>-0.327642</td>\n",
              "      <td>-0.139097</td>\n",
              "      <td>-0.055353</td>\n",
              "      <td>-0.059752</td>\n",
              "      <td>378.66</td>\n",
              "      <td>0</td>\n",
              "    </tr>\n",
              "    <tr>\n",
              "      <th>3</th>\n",
              "      <td>1.0</td>\n",
              "      <td>-0.966272</td>\n",
              "      <td>-0.185226</td>\n",
              "      <td>1.792993</td>\n",
              "      <td>-0.863291</td>\n",
              "      <td>-0.010309</td>\n",
              "      <td>1.247203</td>\n",
              "      <td>0.237609</td>\n",
              "      <td>0.377436</td>\n",
              "      <td>-1.387024</td>\n",
              "      <td>...</td>\n",
              "      <td>-0.108300</td>\n",
              "      <td>0.005274</td>\n",
              "      <td>-0.190321</td>\n",
              "      <td>-1.175575</td>\n",
              "      <td>0.647376</td>\n",
              "      <td>-0.221929</td>\n",
              "      <td>0.062723</td>\n",
              "      <td>0.061458</td>\n",
              "      <td>123.50</td>\n",
              "      <td>0</td>\n",
              "    </tr>\n",
              "    <tr>\n",
              "      <th>4</th>\n",
              "      <td>2.0</td>\n",
              "      <td>-1.158233</td>\n",
              "      <td>0.877737</td>\n",
              "      <td>1.548718</td>\n",
              "      <td>0.403034</td>\n",
              "      <td>-0.407193</td>\n",
              "      <td>0.095921</td>\n",
              "      <td>0.592941</td>\n",
              "      <td>-0.270533</td>\n",
              "      <td>0.817739</td>\n",
              "      <td>...</td>\n",
              "      <td>-0.009431</td>\n",
              "      <td>0.798278</td>\n",
              "      <td>-0.137458</td>\n",
              "      <td>0.141267</td>\n",
              "      <td>-0.206010</td>\n",
              "      <td>0.502292</td>\n",
              "      <td>0.219422</td>\n",
              "      <td>0.215153</td>\n",
              "      <td>69.99</td>\n",
              "      <td>0</td>\n",
              "    </tr>\n",
              "  </tbody>\n",
              "</table>\n",
              "<p>5 rows × 31 columns</p>\n",
              "</div>\n",
              "      <button class=\"colab-df-convert\" onclick=\"convertToInteractive('df-64fe7859-bc26-497e-9a6b-3865cff492c1')\"\n",
              "              title=\"Convert this dataframe to an interactive table.\"\n",
              "              style=\"display:none;\">\n",
              "        \n",
              "  <svg xmlns=\"http://www.w3.org/2000/svg\" height=\"24px\"viewBox=\"0 0 24 24\"\n",
              "       width=\"24px\">\n",
              "    <path d=\"M0 0h24v24H0V0z\" fill=\"none\"/>\n",
              "    <path d=\"M18.56 5.44l.94 2.06.94-2.06 2.06-.94-2.06-.94-.94-2.06-.94 2.06-2.06.94zm-11 1L8.5 8.5l.94-2.06 2.06-.94-2.06-.94L8.5 2.5l-.94 2.06-2.06.94zm10 10l.94 2.06.94-2.06 2.06-.94-2.06-.94-.94-2.06-.94 2.06-2.06.94z\"/><path d=\"M17.41 7.96l-1.37-1.37c-.4-.4-.92-.59-1.43-.59-.52 0-1.04.2-1.43.59L10.3 9.45l-7.72 7.72c-.78.78-.78 2.05 0 2.83L4 21.41c.39.39.9.59 1.41.59.51 0 1.02-.2 1.41-.59l7.78-7.78 2.81-2.81c.8-.78.8-2.07 0-2.86zM5.41 20L4 18.59l7.72-7.72 1.47 1.35L5.41 20z\"/>\n",
              "  </svg>\n",
              "      </button>\n",
              "      \n",
              "  <style>\n",
              "    .colab-df-container {\n",
              "      display:flex;\n",
              "      flex-wrap:wrap;\n",
              "      gap: 12px;\n",
              "    }\n",
              "\n",
              "    .colab-df-convert {\n",
              "      background-color: #E8F0FE;\n",
              "      border: none;\n",
              "      border-radius: 50%;\n",
              "      cursor: pointer;\n",
              "      display: none;\n",
              "      fill: #1967D2;\n",
              "      height: 32px;\n",
              "      padding: 0 0 0 0;\n",
              "      width: 32px;\n",
              "    }\n",
              "\n",
              "    .colab-df-convert:hover {\n",
              "      background-color: #E2EBFA;\n",
              "      box-shadow: 0px 1px 2px rgba(60, 64, 67, 0.3), 0px 1px 3px 1px rgba(60, 64, 67, 0.15);\n",
              "      fill: #174EA6;\n",
              "    }\n",
              "\n",
              "    [theme=dark] .colab-df-convert {\n",
              "      background-color: #3B4455;\n",
              "      fill: #D2E3FC;\n",
              "    }\n",
              "\n",
              "    [theme=dark] .colab-df-convert:hover {\n",
              "      background-color: #434B5C;\n",
              "      box-shadow: 0px 1px 3px 1px rgba(0, 0, 0, 0.15);\n",
              "      filter: drop-shadow(0px 1px 2px rgba(0, 0, 0, 0.3));\n",
              "      fill: #FFFFFF;\n",
              "    }\n",
              "  </style>\n",
              "\n",
              "      <script>\n",
              "        const buttonEl =\n",
              "          document.querySelector('#df-64fe7859-bc26-497e-9a6b-3865cff492c1 button.colab-df-convert');\n",
              "        buttonEl.style.display =\n",
              "          google.colab.kernel.accessAllowed ? 'block' : 'none';\n",
              "\n",
              "        async function convertToInteractive(key) {\n",
              "          const element = document.querySelector('#df-64fe7859-bc26-497e-9a6b-3865cff492c1');\n",
              "          const dataTable =\n",
              "            await google.colab.kernel.invokeFunction('convertToInteractive',\n",
              "                                                     [key], {});\n",
              "          if (!dataTable) return;\n",
              "\n",
              "          const docLinkHtml = 'Like what you see? Visit the ' +\n",
              "            '<a target=\"_blank\" href=https://colab.research.google.com/notebooks/data_table.ipynb>data table notebook</a>'\n",
              "            + ' to learn more about interactive tables.';\n",
              "          element.innerHTML = '';\n",
              "          dataTable['output_type'] = 'display_data';\n",
              "          await google.colab.output.renderOutput(dataTable, element);\n",
              "          const docLink = document.createElement('div');\n",
              "          docLink.innerHTML = docLinkHtml;\n",
              "          element.appendChild(docLink);\n",
              "        }\n",
              "      </script>\n",
              "    </div>\n",
              "  </div>\n",
              "  "
            ]
          },
          "metadata": {},
          "execution_count": 3
        }
      ]
    },
    {
      "cell_type": "code",
      "source": [
        "# Getting the shape of the data\n",
        "df.shape"
      ],
      "metadata": {
        "colab": {
          "base_uri": "https://localhost:8080/"
        },
        "id": "hhs23obvz63o",
        "outputId": "19307ea5-0f4d-4308-9d4c-2dceb82de115"
      },
      "execution_count": 4,
      "outputs": [
        {
          "output_type": "execute_result",
          "data": {
            "text/plain": [
              "(284807, 31)"
            ]
          },
          "metadata": {},
          "execution_count": 4
        }
      ]
    },
    {
      "cell_type": "code",
      "source": [
        "# To check if there is any null values present in the dataset\n",
        "df.isnull().sum()"
      ],
      "metadata": {
        "colab": {
          "base_uri": "https://localhost:8080/"
        },
        "id": "WRsyN7X82b7S",
        "outputId": "0fd41d8a-1166-4bf2-e062-8d11162cee97"
      },
      "execution_count": 5,
      "outputs": [
        {
          "output_type": "execute_result",
          "data": {
            "text/plain": [
              "Time      0\n",
              "V1        0\n",
              "V2        0\n",
              "V3        0\n",
              "V4        0\n",
              "V5        0\n",
              "V6        0\n",
              "V7        0\n",
              "V8        0\n",
              "V9        0\n",
              "V10       0\n",
              "V11       0\n",
              "V12       0\n",
              "V13       0\n",
              "V14       0\n",
              "V15       0\n",
              "V16       0\n",
              "V17       0\n",
              "V18       0\n",
              "V19       0\n",
              "V20       0\n",
              "V21       0\n",
              "V22       0\n",
              "V23       0\n",
              "V24       0\n",
              "V25       0\n",
              "V26       0\n",
              "V27       0\n",
              "V28       0\n",
              "Amount    0\n",
              "Class     0\n",
              "dtype: int64"
            ]
          },
          "metadata": {},
          "execution_count": 5
        }
      ]
    },
    {
      "cell_type": "code",
      "source": [
        "# Loading the data\n",
        "df = pd.read_csv('creditcard.csv')\n",
        "df.head()"
      ],
      "metadata": {
        "colab": {
          "base_uri": "https://localhost:8080/",
          "height": 299
        },
        "id": "3nAPpagg2dMO",
        "outputId": "6185409c-9304-43d3-e8da-c54c8c1ae03a"
      },
      "execution_count": 6,
      "outputs": [
        {
          "output_type": "execute_result",
          "data": {
            "text/plain": [
              "   Time        V1        V2        V3        V4        V5        V6        V7  \\\n",
              "0   0.0 -1.359807 -0.072781  2.536347  1.378155 -0.338321  0.462388  0.239599   \n",
              "1   0.0  1.191857  0.266151  0.166480  0.448154  0.060018 -0.082361 -0.078803   \n",
              "2   1.0 -1.358354 -1.340163  1.773209  0.379780 -0.503198  1.800499  0.791461   \n",
              "3   1.0 -0.966272 -0.185226  1.792993 -0.863291 -0.010309  1.247203  0.237609   \n",
              "4   2.0 -1.158233  0.877737  1.548718  0.403034 -0.407193  0.095921  0.592941   \n",
              "\n",
              "         V8        V9  ...       V21       V22       V23       V24       V25  \\\n",
              "0  0.098698  0.363787  ... -0.018307  0.277838 -0.110474  0.066928  0.128539   \n",
              "1  0.085102 -0.255425  ... -0.225775 -0.638672  0.101288 -0.339846  0.167170   \n",
              "2  0.247676 -1.514654  ...  0.247998  0.771679  0.909412 -0.689281 -0.327642   \n",
              "3  0.377436 -1.387024  ... -0.108300  0.005274 -0.190321 -1.175575  0.647376   \n",
              "4 -0.270533  0.817739  ... -0.009431  0.798278 -0.137458  0.141267 -0.206010   \n",
              "\n",
              "        V26       V27       V28  Amount  Class  \n",
              "0 -0.189115  0.133558 -0.021053  149.62      0  \n",
              "1  0.125895 -0.008983  0.014724    2.69      0  \n",
              "2 -0.139097 -0.055353 -0.059752  378.66      0  \n",
              "3 -0.221929  0.062723  0.061458  123.50      0  \n",
              "4  0.502292  0.219422  0.215153   69.99      0  \n",
              "\n",
              "[5 rows x 31 columns]"
            ],
            "text/html": [
              "\n",
              "  <div id=\"df-2a20cf5e-9092-49ee-a329-7226651b9eeb\">\n",
              "    <div class=\"colab-df-container\">\n",
              "      <div>\n",
              "<style scoped>\n",
              "    .dataframe tbody tr th:only-of-type {\n",
              "        vertical-align: middle;\n",
              "    }\n",
              "\n",
              "    .dataframe tbody tr th {\n",
              "        vertical-align: top;\n",
              "    }\n",
              "\n",
              "    .dataframe thead th {\n",
              "        text-align: right;\n",
              "    }\n",
              "</style>\n",
              "<table border=\"1\" class=\"dataframe\">\n",
              "  <thead>\n",
              "    <tr style=\"text-align: right;\">\n",
              "      <th></th>\n",
              "      <th>Time</th>\n",
              "      <th>V1</th>\n",
              "      <th>V2</th>\n",
              "      <th>V3</th>\n",
              "      <th>V4</th>\n",
              "      <th>V5</th>\n",
              "      <th>V6</th>\n",
              "      <th>V7</th>\n",
              "      <th>V8</th>\n",
              "      <th>V9</th>\n",
              "      <th>...</th>\n",
              "      <th>V21</th>\n",
              "      <th>V22</th>\n",
              "      <th>V23</th>\n",
              "      <th>V24</th>\n",
              "      <th>V25</th>\n",
              "      <th>V26</th>\n",
              "      <th>V27</th>\n",
              "      <th>V28</th>\n",
              "      <th>Amount</th>\n",
              "      <th>Class</th>\n",
              "    </tr>\n",
              "  </thead>\n",
              "  <tbody>\n",
              "    <tr>\n",
              "      <th>0</th>\n",
              "      <td>0.0</td>\n",
              "      <td>-1.359807</td>\n",
              "      <td>-0.072781</td>\n",
              "      <td>2.536347</td>\n",
              "      <td>1.378155</td>\n",
              "      <td>-0.338321</td>\n",
              "      <td>0.462388</td>\n",
              "      <td>0.239599</td>\n",
              "      <td>0.098698</td>\n",
              "      <td>0.363787</td>\n",
              "      <td>...</td>\n",
              "      <td>-0.018307</td>\n",
              "      <td>0.277838</td>\n",
              "      <td>-0.110474</td>\n",
              "      <td>0.066928</td>\n",
              "      <td>0.128539</td>\n",
              "      <td>-0.189115</td>\n",
              "      <td>0.133558</td>\n",
              "      <td>-0.021053</td>\n",
              "      <td>149.62</td>\n",
              "      <td>0</td>\n",
              "    </tr>\n",
              "    <tr>\n",
              "      <th>1</th>\n",
              "      <td>0.0</td>\n",
              "      <td>1.191857</td>\n",
              "      <td>0.266151</td>\n",
              "      <td>0.166480</td>\n",
              "      <td>0.448154</td>\n",
              "      <td>0.060018</td>\n",
              "      <td>-0.082361</td>\n",
              "      <td>-0.078803</td>\n",
              "      <td>0.085102</td>\n",
              "      <td>-0.255425</td>\n",
              "      <td>...</td>\n",
              "      <td>-0.225775</td>\n",
              "      <td>-0.638672</td>\n",
              "      <td>0.101288</td>\n",
              "      <td>-0.339846</td>\n",
              "      <td>0.167170</td>\n",
              "      <td>0.125895</td>\n",
              "      <td>-0.008983</td>\n",
              "      <td>0.014724</td>\n",
              "      <td>2.69</td>\n",
              "      <td>0</td>\n",
              "    </tr>\n",
              "    <tr>\n",
              "      <th>2</th>\n",
              "      <td>1.0</td>\n",
              "      <td>-1.358354</td>\n",
              "      <td>-1.340163</td>\n",
              "      <td>1.773209</td>\n",
              "      <td>0.379780</td>\n",
              "      <td>-0.503198</td>\n",
              "      <td>1.800499</td>\n",
              "      <td>0.791461</td>\n",
              "      <td>0.247676</td>\n",
              "      <td>-1.514654</td>\n",
              "      <td>...</td>\n",
              "      <td>0.247998</td>\n",
              "      <td>0.771679</td>\n",
              "      <td>0.909412</td>\n",
              "      <td>-0.689281</td>\n",
              "      <td>-0.327642</td>\n",
              "      <td>-0.139097</td>\n",
              "      <td>-0.055353</td>\n",
              "      <td>-0.059752</td>\n",
              "      <td>378.66</td>\n",
              "      <td>0</td>\n",
              "    </tr>\n",
              "    <tr>\n",
              "      <th>3</th>\n",
              "      <td>1.0</td>\n",
              "      <td>-0.966272</td>\n",
              "      <td>-0.185226</td>\n",
              "      <td>1.792993</td>\n",
              "      <td>-0.863291</td>\n",
              "      <td>-0.010309</td>\n",
              "      <td>1.247203</td>\n",
              "      <td>0.237609</td>\n",
              "      <td>0.377436</td>\n",
              "      <td>-1.387024</td>\n",
              "      <td>...</td>\n",
              "      <td>-0.108300</td>\n",
              "      <td>0.005274</td>\n",
              "      <td>-0.190321</td>\n",
              "      <td>-1.175575</td>\n",
              "      <td>0.647376</td>\n",
              "      <td>-0.221929</td>\n",
              "      <td>0.062723</td>\n",
              "      <td>0.061458</td>\n",
              "      <td>123.50</td>\n",
              "      <td>0</td>\n",
              "    </tr>\n",
              "    <tr>\n",
              "      <th>4</th>\n",
              "      <td>2.0</td>\n",
              "      <td>-1.158233</td>\n",
              "      <td>0.877737</td>\n",
              "      <td>1.548718</td>\n",
              "      <td>0.403034</td>\n",
              "      <td>-0.407193</td>\n",
              "      <td>0.095921</td>\n",
              "      <td>0.592941</td>\n",
              "      <td>-0.270533</td>\n",
              "      <td>0.817739</td>\n",
              "      <td>...</td>\n",
              "      <td>-0.009431</td>\n",
              "      <td>0.798278</td>\n",
              "      <td>-0.137458</td>\n",
              "      <td>0.141267</td>\n",
              "      <td>-0.206010</td>\n",
              "      <td>0.502292</td>\n",
              "      <td>0.219422</td>\n",
              "      <td>0.215153</td>\n",
              "      <td>69.99</td>\n",
              "      <td>0</td>\n",
              "    </tr>\n",
              "  </tbody>\n",
              "</table>\n",
              "<p>5 rows × 31 columns</p>\n",
              "</div>\n",
              "      <button class=\"colab-df-convert\" onclick=\"convertToInteractive('df-2a20cf5e-9092-49ee-a329-7226651b9eeb')\"\n",
              "              title=\"Convert this dataframe to an interactive table.\"\n",
              "              style=\"display:none;\">\n",
              "        \n",
              "  <svg xmlns=\"http://www.w3.org/2000/svg\" height=\"24px\"viewBox=\"0 0 24 24\"\n",
              "       width=\"24px\">\n",
              "    <path d=\"M0 0h24v24H0V0z\" fill=\"none\"/>\n",
              "    <path d=\"M18.56 5.44l.94 2.06.94-2.06 2.06-.94-2.06-.94-.94-2.06-.94 2.06-2.06.94zm-11 1L8.5 8.5l.94-2.06 2.06-.94-2.06-.94L8.5 2.5l-.94 2.06-2.06.94zm10 10l.94 2.06.94-2.06 2.06-.94-2.06-.94-.94-2.06-.94 2.06-2.06.94z\"/><path d=\"M17.41 7.96l-1.37-1.37c-.4-.4-.92-.59-1.43-.59-.52 0-1.04.2-1.43.59L10.3 9.45l-7.72 7.72c-.78.78-.78 2.05 0 2.83L4 21.41c.39.39.9.59 1.41.59.51 0 1.02-.2 1.41-.59l7.78-7.78 2.81-2.81c.8-.78.8-2.07 0-2.86zM5.41 20L4 18.59l7.72-7.72 1.47 1.35L5.41 20z\"/>\n",
              "  </svg>\n",
              "      </button>\n",
              "      \n",
              "  <style>\n",
              "    .colab-df-container {\n",
              "      display:flex;\n",
              "      flex-wrap:wrap;\n",
              "      gap: 12px;\n",
              "    }\n",
              "\n",
              "    .colab-df-convert {\n",
              "      background-color: #E8F0FE;\n",
              "      border: none;\n",
              "      border-radius: 50%;\n",
              "      cursor: pointer;\n",
              "      display: none;\n",
              "      fill: #1967D2;\n",
              "      height: 32px;\n",
              "      padding: 0 0 0 0;\n",
              "      width: 32px;\n",
              "    }\n",
              "\n",
              "    .colab-df-convert:hover {\n",
              "      background-color: #E2EBFA;\n",
              "      box-shadow: 0px 1px 2px rgba(60, 64, 67, 0.3), 0px 1px 3px 1px rgba(60, 64, 67, 0.15);\n",
              "      fill: #174EA6;\n",
              "    }\n",
              "\n",
              "    [theme=dark] .colab-df-convert {\n",
              "      background-color: #3B4455;\n",
              "      fill: #D2E3FC;\n",
              "    }\n",
              "\n",
              "    [theme=dark] .colab-df-convert:hover {\n",
              "      background-color: #434B5C;\n",
              "      box-shadow: 0px 1px 3px 1px rgba(0, 0, 0, 0.15);\n",
              "      filter: drop-shadow(0px 1px 2px rgba(0, 0, 0, 0.3));\n",
              "      fill: #FFFFFF;\n",
              "    }\n",
              "  </style>\n",
              "\n",
              "      <script>\n",
              "        const buttonEl =\n",
              "          document.querySelector('#df-2a20cf5e-9092-49ee-a329-7226651b9eeb button.colab-df-convert');\n",
              "        buttonEl.style.display =\n",
              "          google.colab.kernel.accessAllowed ? 'block' : 'none';\n",
              "\n",
              "        async function convertToInteractive(key) {\n",
              "          const element = document.querySelector('#df-2a20cf5e-9092-49ee-a329-7226651b9eeb');\n",
              "          const dataTable =\n",
              "            await google.colab.kernel.invokeFunction('convertToInteractive',\n",
              "                                                     [key], {});\n",
              "          if (!dataTable) return;\n",
              "\n",
              "          const docLinkHtml = 'Like what you see? Visit the ' +\n",
              "            '<a target=\"_blank\" href=https://colab.research.google.com/notebooks/data_table.ipynb>data table notebook</a>'\n",
              "            + ' to learn more about interactive tables.';\n",
              "          element.innerHTML = '';\n",
              "          dataTable['output_type'] = 'display_data';\n",
              "          await google.colab.output.renderOutput(dataTable, element);\n",
              "          const docLink = document.createElement('div');\n",
              "          docLink.innerHTML = docLinkHtml;\n",
              "          element.appendChild(docLink);\n",
              "        }\n",
              "      </script>\n",
              "    </div>\n",
              "  </div>\n",
              "  "
            ]
          },
          "metadata": {},
          "execution_count": 6
        }
      ]
    },
    {
      "cell_type": "code",
      "source": [
        "# As time is given in relative fashion, we are using pandas.Timedelta which Represents a duration, the difference between two times or dates.\n",
        "Delta_Time = pd.to_timedelta(df['Time'], unit='s')\n",
        "\n",
        "#Create derived columns Mins and hours\n",
        "df['Time_Day'] = (Delta_Time.dt.components.days).astype(int)\n",
        "df['Time_Hour'] = (Delta_Time.dt.components.hours).astype(int)\n",
        "df['Time_Min'] = (Delta_Time.dt.components.minutes).astype(int)"
      ],
      "metadata": {
        "id": "r7MtWJ-l2rlh"
      },
      "execution_count": 7,
      "outputs": []
    },
    {
      "cell_type": "code",
      "source": [
        "# Drop unnecessary columns\n",
        "# We will drop Time,as we have derived the Day/Hour/Minutes from the time column \n",
        "df.drop('Time', axis = 1, inplace= True)\n",
        "# We will keep only derived column hour, as day/minutes might not be very useful\n",
        "df.drop(['Time_Day', 'Time_Min'], axis = 1, inplace= True)"
      ],
      "metadata": {
        "id": "fQRhiLR14mG_"
      },
      "execution_count": 8,
      "outputs": []
    },
    {
      "cell_type": "code",
      "source": [
        "# Splitting the dataset into X and y\n",
        "y= df['Class']\n",
        "X = df.drop(['Class'], axis=1)"
      ],
      "metadata": {
        "id": "-d54GBjR4qNX"
      },
      "execution_count": 9,
      "outputs": []
    },
    {
      "cell_type": "code",
      "source": [
        "# Splitting the dataset using train test split\n",
        "X_train, X_test, y_train, y_test = train_test_split(X, y, random_state=100, test_size=0.20)"
      ],
      "metadata": {
        "id": "-hvgCXur9aKt"
      },
      "execution_count": 10,
      "outputs": []
    },
    {
      "cell_type": "code",
      "source": [
        "# Checking the spread of data post split\n",
        "print(np.sum(y))\n",
        "print(np.sum(y_train))\n",
        "print(np.sum(y_test))"
      ],
      "metadata": {
        "colab": {
          "base_uri": "https://localhost:8080/"
        },
        "id": "-UraCG8A9dET",
        "outputId": "d85dfb88-ac25-412a-f005-28ac8536845e"
      },
      "execution_count": 11,
      "outputs": [
        {
          "output_type": "stream",
          "name": "stdout",
          "text": [
            "492\n",
            "396\n",
            "96\n"
          ]
        }
      ]
    },
    {
      "cell_type": "code",
      "source": [
        "#Standardizing the Amount column (All other 'V' columns are already scaled as they've undergone PCA transformation).\n",
        "Rob_scaler=RobustScaler() #Robust to outliers\n",
        "df['Std_Amount'] = Rob_scaler.fit_transform(df['Amount'].values.reshape(-1, 1))\n",
        "df.head()"
      ],
      "metadata": {
        "colab": {
          "base_uri": "https://localhost:8080/",
          "height": 299
        },
        "id": "2pv09q3K9e3P",
        "outputId": "1be83732-2066-448b-a3c6-609a58f25644"
      },
      "execution_count": 12,
      "outputs": [
        {
          "output_type": "execute_result",
          "data": {
            "text/plain": [
              "         V1        V2        V3        V4        V5        V6        V7  \\\n",
              "0 -1.359807 -0.072781  2.536347  1.378155 -0.338321  0.462388  0.239599   \n",
              "1  1.191857  0.266151  0.166480  0.448154  0.060018 -0.082361 -0.078803   \n",
              "2 -1.358354 -1.340163  1.773209  0.379780 -0.503198  1.800499  0.791461   \n",
              "3 -0.966272 -0.185226  1.792993 -0.863291 -0.010309  1.247203  0.237609   \n",
              "4 -1.158233  0.877737  1.548718  0.403034 -0.407193  0.095921  0.592941   \n",
              "\n",
              "         V8        V9       V10  ...       V23       V24       V25       V26  \\\n",
              "0  0.098698  0.363787  0.090794  ... -0.110474  0.066928  0.128539 -0.189115   \n",
              "1  0.085102 -0.255425 -0.166974  ...  0.101288 -0.339846  0.167170  0.125895   \n",
              "2  0.247676 -1.514654  0.207643  ...  0.909412 -0.689281 -0.327642 -0.139097   \n",
              "3  0.377436 -1.387024 -0.054952  ... -0.190321 -1.175575  0.647376 -0.221929   \n",
              "4 -0.270533  0.817739  0.753074  ... -0.137458  0.141267 -0.206010  0.502292   \n",
              "\n",
              "        V27       V28  Amount  Class  Time_Hour  Std_Amount  \n",
              "0  0.133558 -0.021053  149.62      0          0    1.783274  \n",
              "1 -0.008983  0.014724    2.69      0          0   -0.269825  \n",
              "2 -0.055353 -0.059752  378.66      0          0    4.983721  \n",
              "3  0.062723  0.061458  123.50      0          0    1.418291  \n",
              "4  0.219422  0.215153   69.99      0          0    0.670579  \n",
              "\n",
              "[5 rows x 32 columns]"
            ],
            "text/html": [
              "\n",
              "  <div id=\"df-52434883-6517-4370-ac1b-1425d79cbe63\">\n",
              "    <div class=\"colab-df-container\">\n",
              "      <div>\n",
              "<style scoped>\n",
              "    .dataframe tbody tr th:only-of-type {\n",
              "        vertical-align: middle;\n",
              "    }\n",
              "\n",
              "    .dataframe tbody tr th {\n",
              "        vertical-align: top;\n",
              "    }\n",
              "\n",
              "    .dataframe thead th {\n",
              "        text-align: right;\n",
              "    }\n",
              "</style>\n",
              "<table border=\"1\" class=\"dataframe\">\n",
              "  <thead>\n",
              "    <tr style=\"text-align: right;\">\n",
              "      <th></th>\n",
              "      <th>V1</th>\n",
              "      <th>V2</th>\n",
              "      <th>V3</th>\n",
              "      <th>V4</th>\n",
              "      <th>V5</th>\n",
              "      <th>V6</th>\n",
              "      <th>V7</th>\n",
              "      <th>V8</th>\n",
              "      <th>V9</th>\n",
              "      <th>V10</th>\n",
              "      <th>...</th>\n",
              "      <th>V23</th>\n",
              "      <th>V24</th>\n",
              "      <th>V25</th>\n",
              "      <th>V26</th>\n",
              "      <th>V27</th>\n",
              "      <th>V28</th>\n",
              "      <th>Amount</th>\n",
              "      <th>Class</th>\n",
              "      <th>Time_Hour</th>\n",
              "      <th>Std_Amount</th>\n",
              "    </tr>\n",
              "  </thead>\n",
              "  <tbody>\n",
              "    <tr>\n",
              "      <th>0</th>\n",
              "      <td>-1.359807</td>\n",
              "      <td>-0.072781</td>\n",
              "      <td>2.536347</td>\n",
              "      <td>1.378155</td>\n",
              "      <td>-0.338321</td>\n",
              "      <td>0.462388</td>\n",
              "      <td>0.239599</td>\n",
              "      <td>0.098698</td>\n",
              "      <td>0.363787</td>\n",
              "      <td>0.090794</td>\n",
              "      <td>...</td>\n",
              "      <td>-0.110474</td>\n",
              "      <td>0.066928</td>\n",
              "      <td>0.128539</td>\n",
              "      <td>-0.189115</td>\n",
              "      <td>0.133558</td>\n",
              "      <td>-0.021053</td>\n",
              "      <td>149.62</td>\n",
              "      <td>0</td>\n",
              "      <td>0</td>\n",
              "      <td>1.783274</td>\n",
              "    </tr>\n",
              "    <tr>\n",
              "      <th>1</th>\n",
              "      <td>1.191857</td>\n",
              "      <td>0.266151</td>\n",
              "      <td>0.166480</td>\n",
              "      <td>0.448154</td>\n",
              "      <td>0.060018</td>\n",
              "      <td>-0.082361</td>\n",
              "      <td>-0.078803</td>\n",
              "      <td>0.085102</td>\n",
              "      <td>-0.255425</td>\n",
              "      <td>-0.166974</td>\n",
              "      <td>...</td>\n",
              "      <td>0.101288</td>\n",
              "      <td>-0.339846</td>\n",
              "      <td>0.167170</td>\n",
              "      <td>0.125895</td>\n",
              "      <td>-0.008983</td>\n",
              "      <td>0.014724</td>\n",
              "      <td>2.69</td>\n",
              "      <td>0</td>\n",
              "      <td>0</td>\n",
              "      <td>-0.269825</td>\n",
              "    </tr>\n",
              "    <tr>\n",
              "      <th>2</th>\n",
              "      <td>-1.358354</td>\n",
              "      <td>-1.340163</td>\n",
              "      <td>1.773209</td>\n",
              "      <td>0.379780</td>\n",
              "      <td>-0.503198</td>\n",
              "      <td>1.800499</td>\n",
              "      <td>0.791461</td>\n",
              "      <td>0.247676</td>\n",
              "      <td>-1.514654</td>\n",
              "      <td>0.207643</td>\n",
              "      <td>...</td>\n",
              "      <td>0.909412</td>\n",
              "      <td>-0.689281</td>\n",
              "      <td>-0.327642</td>\n",
              "      <td>-0.139097</td>\n",
              "      <td>-0.055353</td>\n",
              "      <td>-0.059752</td>\n",
              "      <td>378.66</td>\n",
              "      <td>0</td>\n",
              "      <td>0</td>\n",
              "      <td>4.983721</td>\n",
              "    </tr>\n",
              "    <tr>\n",
              "      <th>3</th>\n",
              "      <td>-0.966272</td>\n",
              "      <td>-0.185226</td>\n",
              "      <td>1.792993</td>\n",
              "      <td>-0.863291</td>\n",
              "      <td>-0.010309</td>\n",
              "      <td>1.247203</td>\n",
              "      <td>0.237609</td>\n",
              "      <td>0.377436</td>\n",
              "      <td>-1.387024</td>\n",
              "      <td>-0.054952</td>\n",
              "      <td>...</td>\n",
              "      <td>-0.190321</td>\n",
              "      <td>-1.175575</td>\n",
              "      <td>0.647376</td>\n",
              "      <td>-0.221929</td>\n",
              "      <td>0.062723</td>\n",
              "      <td>0.061458</td>\n",
              "      <td>123.50</td>\n",
              "      <td>0</td>\n",
              "      <td>0</td>\n",
              "      <td>1.418291</td>\n",
              "    </tr>\n",
              "    <tr>\n",
              "      <th>4</th>\n",
              "      <td>-1.158233</td>\n",
              "      <td>0.877737</td>\n",
              "      <td>1.548718</td>\n",
              "      <td>0.403034</td>\n",
              "      <td>-0.407193</td>\n",
              "      <td>0.095921</td>\n",
              "      <td>0.592941</td>\n",
              "      <td>-0.270533</td>\n",
              "      <td>0.817739</td>\n",
              "      <td>0.753074</td>\n",
              "      <td>...</td>\n",
              "      <td>-0.137458</td>\n",
              "      <td>0.141267</td>\n",
              "      <td>-0.206010</td>\n",
              "      <td>0.502292</td>\n",
              "      <td>0.219422</td>\n",
              "      <td>0.215153</td>\n",
              "      <td>69.99</td>\n",
              "      <td>0</td>\n",
              "      <td>0</td>\n",
              "      <td>0.670579</td>\n",
              "    </tr>\n",
              "  </tbody>\n",
              "</table>\n",
              "<p>5 rows × 32 columns</p>\n",
              "</div>\n",
              "      <button class=\"colab-df-convert\" onclick=\"convertToInteractive('df-52434883-6517-4370-ac1b-1425d79cbe63')\"\n",
              "              title=\"Convert this dataframe to an interactive table.\"\n",
              "              style=\"display:none;\">\n",
              "        \n",
              "  <svg xmlns=\"http://www.w3.org/2000/svg\" height=\"24px\"viewBox=\"0 0 24 24\"\n",
              "       width=\"24px\">\n",
              "    <path d=\"M0 0h24v24H0V0z\" fill=\"none\"/>\n",
              "    <path d=\"M18.56 5.44l.94 2.06.94-2.06 2.06-.94-2.06-.94-.94-2.06-.94 2.06-2.06.94zm-11 1L8.5 8.5l.94-2.06 2.06-.94-2.06-.94L8.5 2.5l-.94 2.06-2.06.94zm10 10l.94 2.06.94-2.06 2.06-.94-2.06-.94-.94-2.06-.94 2.06-2.06.94z\"/><path d=\"M17.41 7.96l-1.37-1.37c-.4-.4-.92-.59-1.43-.59-.52 0-1.04.2-1.43.59L10.3 9.45l-7.72 7.72c-.78.78-.78 2.05 0 2.83L4 21.41c.39.39.9.59 1.41.59.51 0 1.02-.2 1.41-.59l7.78-7.78 2.81-2.81c.8-.78.8-2.07 0-2.86zM5.41 20L4 18.59l7.72-7.72 1.47 1.35L5.41 20z\"/>\n",
              "  </svg>\n",
              "      </button>\n",
              "      \n",
              "  <style>\n",
              "    .colab-df-container {\n",
              "      display:flex;\n",
              "      flex-wrap:wrap;\n",
              "      gap: 12px;\n",
              "    }\n",
              "\n",
              "    .colab-df-convert {\n",
              "      background-color: #E8F0FE;\n",
              "      border: none;\n",
              "      border-radius: 50%;\n",
              "      cursor: pointer;\n",
              "      display: none;\n",
              "      fill: #1967D2;\n",
              "      height: 32px;\n",
              "      padding: 0 0 0 0;\n",
              "      width: 32px;\n",
              "    }\n",
              "\n",
              "    .colab-df-convert:hover {\n",
              "      background-color: #E2EBFA;\n",
              "      box-shadow: 0px 1px 2px rgba(60, 64, 67, 0.3), 0px 1px 3px 1px rgba(60, 64, 67, 0.15);\n",
              "      fill: #174EA6;\n",
              "    }\n",
              "\n",
              "    [theme=dark] .colab-df-convert {\n",
              "      background-color: #3B4455;\n",
              "      fill: #D2E3FC;\n",
              "    }\n",
              "\n",
              "    [theme=dark] .colab-df-convert:hover {\n",
              "      background-color: #434B5C;\n",
              "      box-shadow: 0px 1px 3px 1px rgba(0, 0, 0, 0.15);\n",
              "      filter: drop-shadow(0px 1px 2px rgba(0, 0, 0, 0.3));\n",
              "      fill: #FFFFFF;\n",
              "    }\n",
              "  </style>\n",
              "\n",
              "      <script>\n",
              "        const buttonEl =\n",
              "          document.querySelector('#df-52434883-6517-4370-ac1b-1425d79cbe63 button.colab-df-convert');\n",
              "        buttonEl.style.display =\n",
              "          google.colab.kernel.accessAllowed ? 'block' : 'none';\n",
              "\n",
              "        async function convertToInteractive(key) {\n",
              "          const element = document.querySelector('#df-52434883-6517-4370-ac1b-1425d79cbe63');\n",
              "          const dataTable =\n",
              "            await google.colab.kernel.invokeFunction('convertToInteractive',\n",
              "                                                     [key], {});\n",
              "          if (!dataTable) return;\n",
              "\n",
              "          const docLinkHtml = 'Like what you see? Visit the ' +\n",
              "            '<a target=\"_blank\" href=https://colab.research.google.com/notebooks/data_table.ipynb>data table notebook</a>'\n",
              "            + ' to learn more about interactive tables.';\n",
              "          element.innerHTML = '';\n",
              "          dataTable['output_type'] = 'display_data';\n",
              "          await google.colab.output.renderOutput(dataTable, element);\n",
              "          const docLink = document.createElement('div');\n",
              "          docLink.innerHTML = docLinkHtml;\n",
              "          element.appendChild(docLink);\n",
              "        }\n",
              "      </script>\n",
              "    </div>\n",
              "  </div>\n",
              "  "
            ]
          },
          "metadata": {},
          "execution_count": 12
        }
      ]
    },
    {
      "cell_type": "code",
      "source": [
        "# Creating the dataset with RandomOverSampler and StratifiedKFold\n",
        "from sklearn.model_selection import StratifiedKFold\n",
        "from imblearn.over_sampling import RandomOverSampler\n",
        "\n",
        "skf = StratifiedKFold(n_splits=5, random_state=None)\n",
        "\n",
        "for fold, (train_index, test_index) in enumerate(skf.split(X,y), 1):\n",
        "    X_train = X.loc[train_index]\n",
        "    y_train = y.loc[train_index] \n",
        "    X_test = X.loc[test_index]\n",
        "    y_test = y.loc[test_index]  \n",
        "    ROS = RandomOverSampler(sampling_strategy=0.5)\n",
        "    X_over, y_over= ROS.fit_resample(X_train, y_train)\n",
        "  "
      ],
      "metadata": {
        "id": "u3hItFATsv1o"
      },
      "execution_count": 13,
      "outputs": []
    },
    {
      "cell_type": "code",
      "source": [
        "X_over= np.array(X_over)\n",
        "X_test = np.array(X_test)\n",
        "y_over = np.array(y_over)\n",
        "y_test = np.array(y_test)"
      ],
      "metadata": {
        "id": "mSs93bWQsf11"
      },
      "execution_count": 14,
      "outputs": []
    },
    {
      "cell_type": "code",
      "source": [
        "from keras.models import Sequential\n",
        "from keras.layers import Dense\n",
        "from keras.layers import Dropout"
      ],
      "metadata": {
        "id": "bjQQKlSutNRe"
      },
      "execution_count": 15,
      "outputs": []
    },
    {
      "cell_type": "code",
      "source": [
        "#Neural Network build Model with one hidden layer"
      ],
      "metadata": {
        "id": "wx4vU9sET6kb"
      },
      "execution_count": null,
      "outputs": []
    },
    {
      "cell_type": "code",
      "source": [
        "#Training a Multi-layer perceptron with 1 hidden layer on Oversampled dataset without using dropout and, using the parameters tuned above.\n",
        "n_inputs = X_over.shape[1]\n",
        "es= keras.callbacks.EarlyStopping(monitor='val_loss',\n",
        "                              min_delta=0,\n",
        "                              patience=2,\n",
        "                              verbose=0, mode='min', restore_best_weights= True)\n",
        "#Model Creation\n",
        "Model1 = Sequential()\n",
        "Model1.add(Dense(65, input_shape=(n_inputs, ), kernel_initializer='he_normal', activation='relu'))\n",
        "Model1.add(Dense(1, kernel_initializer='he_normal', activation='sigmoid'))\n",
        "\n",
        "#Compile Model\n",
        "Model1.compile(Adam(lr=0.01), loss='binary_crossentropy', metrics=['accuracy'])\n",
        "Model1.summary()\n",
        "\n",
        "#Fit Model\n",
        "history1= Model1.fit(X_over, y_over, validation_data=(X_test,y_test), batch_size=700, epochs=30, shuffle=True, verbose=1)\n",
        "print(history1.history.keys())"
      ],
      "metadata": {
        "colab": {
          "base_uri": "https://localhost:8080/"
        },
        "id": "lYs3u2GGUDNG",
        "outputId": "432fb39f-9bdb-4581-ab60-a2c2117978e9"
      },
      "execution_count": 16,
      "outputs": [
        {
          "output_type": "stream",
          "name": "stdout",
          "text": [
            "Model: \"sequential\"\n",
            "_________________________________________________________________\n",
            " Layer (type)                Output Shape              Param #   \n",
            "=================================================================\n",
            " dense (Dense)               (None, 65)                2015      \n",
            "                                                                 \n",
            " dense_1 (Dense)             (None, 1)                 66        \n",
            "                                                                 \n",
            "=================================================================\n",
            "Total params: 2,081\n",
            "Trainable params: 2,081\n",
            "Non-trainable params: 0\n",
            "_________________________________________________________________\n"
          ]
        },
        {
          "output_type": "stream",
          "name": "stderr",
          "text": [
            "/usr/local/lib/python3.7/dist-packages/keras/optimizer_v2/adam.py:105: UserWarning: The `lr` argument is deprecated, use `learning_rate` instead.\n",
            "  super(Adam, self).__init__(name, **kwargs)\n"
          ]
        },
        {
          "output_type": "stream",
          "name": "stdout",
          "text": [
            "Epoch 1/30\n",
            "488/488 [==============================] - 2s 2ms/step - loss: 0.2550 - accuracy: 0.9585 - val_loss: 0.0248 - val_accuracy: 0.9929\n",
            "Epoch 2/30\n",
            "488/488 [==============================] - 1s 1ms/step - loss: 0.0617 - accuracy: 0.9844 - val_loss: 0.0251 - val_accuracy: 0.9925\n",
            "Epoch 3/30\n",
            "488/488 [==============================] - 1s 2ms/step - loss: 0.0567 - accuracy: 0.9869 - val_loss: 0.0198 - val_accuracy: 0.9955\n",
            "Epoch 4/30\n",
            "488/488 [==============================] - 1s 1ms/step - loss: 0.0566 - accuracy: 0.9889 - val_loss: 0.0358 - val_accuracy: 0.9910\n",
            "Epoch 5/30\n",
            "488/488 [==============================] - 1s 2ms/step - loss: 0.0452 - accuracy: 0.9904 - val_loss: 0.0506 - val_accuracy: 0.9877\n",
            "Epoch 6/30\n",
            "488/488 [==============================] - 1s 1ms/step - loss: 0.0178 - accuracy: 0.9953 - val_loss: 0.0304 - val_accuracy: 0.9922\n",
            "Epoch 7/30\n",
            "488/488 [==============================] - 1s 1ms/step - loss: 0.0182 - accuracy: 0.9954 - val_loss: 0.0290 - val_accuracy: 0.9930\n",
            "Epoch 8/30\n",
            "488/488 [==============================] - 1s 2ms/step - loss: 0.0258 - accuracy: 0.9940 - val_loss: 0.0282 - val_accuracy: 0.9935\n",
            "Epoch 9/30\n",
            "488/488 [==============================] - 1s 1ms/step - loss: 0.0166 - accuracy: 0.9961 - val_loss: 0.0393 - val_accuracy: 0.9903\n",
            "Epoch 10/30\n",
            "488/488 [==============================] - 1s 1ms/step - loss: 0.0144 - accuracy: 0.9968 - val_loss: 0.0217 - val_accuracy: 0.9958\n",
            "Epoch 11/30\n",
            "488/488 [==============================] - 1s 1ms/step - loss: 0.0118 - accuracy: 0.9974 - val_loss: 0.0272 - val_accuracy: 0.9941\n",
            "Epoch 12/30\n",
            "488/488 [==============================] - 1s 2ms/step - loss: 0.0089 - accuracy: 0.9981 - val_loss: 0.0204 - val_accuracy: 0.9967\n",
            "Epoch 13/30\n",
            "488/488 [==============================] - 1s 1ms/step - loss: 0.0141 - accuracy: 0.9970 - val_loss: 0.2173 - val_accuracy: 0.9545\n",
            "Epoch 14/30\n",
            "488/488 [==============================] - 1s 2ms/step - loss: 0.0094 - accuracy: 0.9979 - val_loss: 0.0305 - val_accuracy: 0.9937\n",
            "Epoch 15/30\n",
            "488/488 [==============================] - 1s 1ms/step - loss: 0.0101 - accuracy: 0.9975 - val_loss: 0.0297 - val_accuracy: 0.9944\n",
            "Epoch 16/30\n",
            "488/488 [==============================] - 1s 2ms/step - loss: 0.0096 - accuracy: 0.9977 - val_loss: 0.0640 - val_accuracy: 0.9857\n",
            "Epoch 17/30\n",
            "488/488 [==============================] - 1s 2ms/step - loss: 0.0074 - accuracy: 0.9983 - val_loss: 0.0660 - val_accuracy: 0.9881\n",
            "Epoch 18/30\n",
            "488/488 [==============================] - 1s 2ms/step - loss: 0.0164 - accuracy: 0.9962 - val_loss: 0.0340 - val_accuracy: 0.9930\n",
            "Epoch 19/30\n",
            "488/488 [==============================] - 1s 1ms/step - loss: 0.0074 - accuracy: 0.9981 - val_loss: 0.0471 - val_accuracy: 0.9903\n",
            "Epoch 20/30\n",
            "488/488 [==============================] - 1s 1ms/step - loss: 0.0085 - accuracy: 0.9978 - val_loss: 0.0290 - val_accuracy: 0.9958\n",
            "Epoch 21/30\n",
            "488/488 [==============================] - 1s 1ms/step - loss: 0.0095 - accuracy: 0.9977 - val_loss: 0.0326 - val_accuracy: 0.9956\n",
            "Epoch 22/30\n",
            "488/488 [==============================] - 1s 1ms/step - loss: 0.0073 - accuracy: 0.9979 - val_loss: 0.0280 - val_accuracy: 0.9968\n",
            "Epoch 23/30\n",
            "488/488 [==============================] - 1s 1ms/step - loss: 0.0072 - accuracy: 0.9981 - val_loss: 0.0385 - val_accuracy: 0.9936\n",
            "Epoch 24/30\n",
            "488/488 [==============================] - 1s 1ms/step - loss: 0.0050 - accuracy: 0.9989 - val_loss: 0.0326 - val_accuracy: 0.9966\n",
            "Epoch 25/30\n",
            "488/488 [==============================] - 1s 2ms/step - loss: 0.0068 - accuracy: 0.9983 - val_loss: 0.0322 - val_accuracy: 0.9964\n",
            "Epoch 26/30\n",
            "488/488 [==============================] - 1s 1ms/step - loss: 0.0054 - accuracy: 0.9988 - val_loss: 0.0366 - val_accuracy: 0.9964\n",
            "Epoch 27/30\n",
            "488/488 [==============================] - 1s 1ms/step - loss: 0.0078 - accuracy: 0.9982 - val_loss: 0.0299 - val_accuracy: 0.9967\n",
            "Epoch 28/30\n",
            "488/488 [==============================] - 1s 2ms/step - loss: 0.0056 - accuracy: 0.9986 - val_loss: 0.0335 - val_accuracy: 0.9961\n",
            "Epoch 29/30\n",
            "488/488 [==============================] - 1s 2ms/step - loss: 0.0061 - accuracy: 0.9985 - val_loss: 0.0368 - val_accuracy: 0.9960\n",
            "Epoch 30/30\n",
            "488/488 [==============================] - 1s 2ms/step - loss: 0.0056 - accuracy: 0.9986 - val_loss: 0.0324 - val_accuracy: 0.9977\n",
            "dict_keys(['loss', 'accuracy', 'val_loss', 'val_accuracy'])\n"
          ]
        }
      ]
    },
    {
      "cell_type": "code",
      "source": [
        "# summarize history for accuracy\n",
        "plt.plot(history1.history['accuracy'])\n",
        "plt.plot(history1.history['val_accuracy'])\n",
        "plt.title('model accuracy')\n",
        "plt.ylabel('accuracy')\n",
        "plt.xlabel('epoch')\n",
        "plt.legend(['train', 'val'], loc='upper left')\n",
        "plt.show()\n",
        "# summarize history for loss\n",
        "plt.plot(history1.history['loss'])\n",
        "plt.plot(history1.history['val_loss'])\n",
        "plt.title('model loss')\n",
        "plt.ylabel('loss')\n",
        "plt.xlabel('epoch')\n",
        "plt.legend(['train', 'val'], loc='upper left')\n",
        "plt.show()"
      ],
      "metadata": {
        "colab": {
          "base_uri": "https://localhost:8080/",
          "height": 573
        },
        "id": "_HwsbKgttRQl",
        "outputId": "40dde620-313e-4e6e-8907-17904f59e263"
      },
      "execution_count": 17,
      "outputs": [
        {
          "output_type": "display_data",
          "data": {
            "text/plain": [
              "<Figure size 432x288 with 1 Axes>"
            ],
            "image/png": "[encoded data removed]"
          },
          "metadata": {
            "needs_background": "light"
          }
        },
        {
          "output_type": "display_data",
          "data": {
            "text/plain": [
              "<Figure size 432x288 with 1 Axes>"
            ],
            "image/png": "[encoded data removed]"
          },
          "metadata": {
            "needs_background": "light"
          }
        }
      ]
    },
    {
      "cell_type": "code",
      "source": [
        "over_predict_Value = Model1.predict(X_test, batch_size=200, verbose=0)"
      ],
      "metadata": {
        "id": "u0vyZZrJe9r6"
      },
      "execution_count": 18,
      "outputs": []
    },
    {
      "cell_type": "code",
      "source": [
        "POSITIVE_FRAUD_THRESHOLD = 0.05\n",
        "NEGATIVE_FRAUD_THRESHOLD = -0.05\n",
        "Overfraud = []\n",
        "for fraud_score in over_predict_Value:\n",
        "  if fraud_score >= POSITIVE_FRAUD_THRESHOLD:\n",
        "    Overfraud.append(1)\n",
        "  else:\n",
        "    Overfraud.append(0)\n"
      ],
      "metadata": {
        "id": "KE27ng_cdxbU"
      },
      "execution_count": 19,
      "outputs": []
    },
    {
      "cell_type": "code",
      "source": [
        "#function for confusion matrix\n",
        "def conf_matrix(y_test,predicted_values):\n",
        "    Predictions_CM = confusion_matrix(y_test, predicted_values, labels = [0, 1])\n",
        "    class_feat=df['Class'].copy()\n",
        "    class_feat= class_feat.unique()\n",
        "    fig, ax = plt.subplots(figsize=(5,5))\n",
        "    sns.heatmap(Predictions_CM, annot=True, fmt='d', xticklabels=class_feat, yticklabels=class_feat)\n",
        "    plt.ylabel('Actual Class')\n",
        "    plt.xlabel('Predicted Class')\n",
        "    plt.show()"
      ],
      "metadata": {
        "id": "LQKNYk76diDT"
      },
      "execution_count": null,
      "outputs": []
    },
    {
      "cell_type": "code",
      "source": [
        "def Plot_confusion_matrix(y_test, predicted_test):\n",
        "  cm = confusion_matrix(y_test, predicted_test)\n",
        "  plt.clf()\n",
        "  plt.imshow(cm, interpolation='nearest', cmap=plt.cm.Accent)\n",
        "  categoryNames = ['Non-Fraudalent','Fraudalent']\n",
        "  plt.title('Confusion Matrix - Test Data')\n",
        "  plt.ylabel('True label')\n",
        "  plt.xlabel('Predicted label')\n",
        "  ticks = np.arange(len(categoryNames))\n",
        "  plt.xticks(ticks, categoryNames, rotation=45)\n",
        "  plt.yticks(ticks, categoryNames)\n",
        "  s = [['TN','FP'], ['FN', 'TP']]\n",
        "  \n",
        "  for i in range(2):\n",
        "      for j in range(2):\n",
        "          plt.text(j,i, str(s[i][j])+\" = \"+str(cm[i][j]),fontsize=12)\n",
        "  plt.show()"
      ],
      "metadata": {
        "id": "-SZ5tri4xCkN"
      },
      "execution_count": 20,
      "outputs": []
    },
    {
      "cell_type": "code",
      "source": [
        "#create Ensemble model and fit the model with train dataset\n",
        "Y_pred_cls = Model1.predict(X_test, batch_size=200, verbose=0)\n",
        "print(\"classification Report\")\n",
        "print(classification_report(y_test, Overfraud))\n",
        "Plot_confusion_matrix(y_test,Overfraud)\n",
        "print('Accuracy NEURAL NETWORK: '+ str(Model1.evaluate(X_test,y_test)[1]))"
      ],
      "metadata": {
        "colab": {
          "base_uri": "https://localhost:8080/",
          "height": 566
        },
        "id": "V5lYnK0hhcue",
        "outputId": "0ce87f6c-3ae2-4deb-9293-96bb27dd67f2"
      },
      "execution_count": 25,
      "outputs": [
        {
          "output_type": "stream",
          "name": "stdout",
          "text": [
            "classification Report\n",
            "              precision    recall  f1-score   support\n",
            "\n",
            "           0       1.00      1.00      1.00     56863\n",
            "           1       0.22      0.76      0.35        98\n",
            "\n",
            "    accuracy                           1.00     56961\n",
            "   macro avg       0.61      0.88      0.67     56961\n",
            "weighted avg       1.00      1.00      1.00     56961\n",
            "\n"
          ]
        },
        {
          "output_type": "display_data",
          "data": {
            "text/plain": [
              "<Figure size 432x288 with 1 Axes>"
            ],
            "image/png": "[encoded data removed]"
          },
          "metadata": {
            "needs_background": "light"
          }
        },
        {
          "output_type": "stream",
          "name": "stdout",
          "text": [
            "1781/1781 [==============================] - 1s 813us/step - loss: 0.0324 - accuracy: 0.9977\n",
            "Accuracy NEURAL NETWORK: 0.9976650476455688\n"
          ]
        }
      ]
    },
    {
      "cell_type": "code",
      "source": [],
      "metadata": {
        "id": "TjuDKPH-wyyX"
      },
      "execution_count": null,
      "outputs": []
    },
    {
      "cell_type": "code",
      "source": [
        "#Training a Multi-layer perceptron with 1 hidden layer on Oversampled dataset using the parameters tuned above and adding a Dropout.\n",
        "n_inputs = X_over.shape[1]\n",
        "es= keras.callbacks.EarlyStopping(monitor='val_loss',\n",
        "                              min_delta=0,\n",
        "                              patience=2,\n",
        "                              verbose=0, mode='min', restore_best_weights= True)\n",
        "Model1_drop = Sequential()\n",
        "Model1_drop.add(Dense(65, input_shape=(n_inputs, ), kernel_initializer='he_normal', activation='relu'))\n",
        "Model1_drop.add(Dropout(0.5))\n",
        "Model1_drop.add(Dense(1, kernel_initializer='he_normal', activation='sigmoid'))\n",
        "\n",
        "Model1_drop.compile(Adam(lr=0.001), loss='binary_crossentropy', metrics=['accuracy'])\n",
        "Model1_drop.summary()\n",
        "\n",
        "Result1= Model1_drop.fit(X_over, y_over, validation_data=(X_test, y_test), batch_size=700, epochs=50, callbacks=[es], shuffle=True, verbose=2)\n",
        "print(Result1.history.keys())"
      ],
      "metadata": {
        "colab": {
          "base_uri": "https://localhost:8080/"
        },
        "id": "9ewewsVGmKd8",
        "outputId": "a3d7fdbc-f207-4eb6-dc44-635cd8dc2ed6"
      },
      "execution_count": 26,
      "outputs": [
        {
          "output_type": "stream",
          "name": "stdout",
          "text": [
            "Model: \"sequential_1\"\n",
            "_________________________________________________________________\n",
            " Layer (type)                Output Shape              Param #   \n",
            "=================================================================\n",
            " dense_2 (Dense)             (None, 65)                2015      \n",
            "                                                                 \n",
            " dropout (Dropout)           (None, 65)                0         \n",
            "                                                                 \n",
            " dense_3 (Dense)             (None, 1)                 66        \n",
            "                                                                 \n",
            "=================================================================\n",
            "Total params: 2,081\n",
            "Trainable params: 2,081\n",
            "Non-trainable params: 0\n",
            "_________________________________________________________________\n",
            "Epoch 1/50\n"
          ]
        },
        {
          "output_type": "stream",
          "name": "stderr",
          "text": [
            "/usr/local/lib/python3.7/dist-packages/keras/optimizer_v2/adam.py:105: UserWarning: The `lr` argument is deprecated, use `learning_rate` instead.\n",
            "  super(Adam, self).__init__(name, **kwargs)\n"
          ]
        },
        {
          "output_type": "stream",
          "name": "stdout",
          "text": [
            "488/488 - 2s - loss: 4.6713 - accuracy: 0.8429 - val_loss: 0.0120 - val_accuracy: 0.9972 - 2s/epoch - 4ms/step\n",
            "Epoch 2/50\n",
            "488/488 - 1s - loss: 0.2453 - accuracy: 0.9458 - val_loss: 0.0186 - val_accuracy: 0.9980 - 1s/epoch - 3ms/step\n",
            "Epoch 3/50\n",
            "488/488 - 1s - loss: 0.1273 - accuracy: 0.9593 - val_loss: 0.0168 - val_accuracy: 0.9981 - 848ms/epoch - 2ms/step\n",
            "dict_keys(['loss', 'accuracy', 'val_loss', 'val_accuracy'])\n"
          ]
        }
      ]
    },
    {
      "cell_type": "code",
      "source": [
        "# summarize history for accuracy\n",
        "plt.plot(Result1.history['accuracy'])\n",
        "plt.plot(Result1.history['val_accuracy'])\n",
        "plt.title('model accuracy')\n",
        "plt.ylabel('accuracy')\n",
        "plt.xlabel('epoch')\n",
        "plt.legend(['train', 'val'], loc='upper left')\n",
        "plt.show()\n",
        "# summarize history for loss\n",
        "plt.plot(Result1.history['loss'])\n",
        "plt.plot(Result1.history['val_loss'])\n",
        "plt.title('model loss')\n",
        "plt.ylabel('loss')\n",
        "plt.xlabel('epoch')\n",
        "plt.legend(['train', 'val'], loc='upper left')\n",
        "plt.show()"
      ],
      "metadata": {
        "colab": {
          "base_uri": "https://localhost:8080/",
          "height": 573
        },
        "id": "-q4IlCFTnOBu",
        "outputId": "c50c1cf1-8c5a-4898-de26-f6e3fb8833dc"
      },
      "execution_count": 27,
      "outputs": [
        {
          "output_type": "display_data",
          "data": {
            "text/plain": [
              "<Figure size 432x288 with 1 Axes>"
            ],
            "image/png": "[encoded data removed]"
          },
          "metadata": {
            "needs_background": "light"
          }
        },
        {
          "output_type": "display_data",
          "data": {
            "text/plain": [
              "<Figure size 432x288 with 1 Axes>"
            ],
            "image/png": "[encoded data removed]"
          },
          "metadata": {
            "needs_background": "light"
          }
        }
      ]
    },
    {
      "cell_type": "code",
      "source": [
        "over_predict_Value_Dropout = Model1_drop.predict(X_test, batch_size=200, verbose=0)"
      ],
      "metadata": {
        "id": "o7dPiE7PnW_X"
      },
      "execution_count": 28,
      "outputs": []
    },
    {
      "cell_type": "code",
      "source": [
        "POSITIVE_FRAUD_THRESHOLD = 0.05\n",
        "NEGATIVE_FRAUD_THRESHOLD = -0.05\n",
        "Overfrauddeopout= []\n",
        "for fraud_score in over_predict_Value_Dropout:\n",
        "  if fraud_score >= POSITIVE_FRAUD_THRESHOLD:\n",
        "    Overfrauddeopout.append(1)\n",
        "  else:\n",
        "    Overfrauddeopout.append(0)\n"
      ],
      "metadata": {
        "id": "9r58IkLMnnI7"
      },
      "execution_count": 29,
      "outputs": []
    },
    {
      "cell_type": "code",
      "source": [
        "\n",
        "#create Ensemble model and fit the model with train dataset\n",
        "Y_pred_cls = Model1_drop.predict(X_test, batch_size=200, verbose=0)\n",
        "print(\"classification Report\")\n",
        "print(classification_report(y_test, Overfrauddeopout))\n",
        "Plot_confusion_matrix(y_test,Overfrauddeopout)\n",
        "print('Accuracy NEURAL NETWORK: '+ str(Model1.evaluate(X_test,y_test)[1]))"
      ],
      "metadata": {
        "colab": {
          "base_uri": "https://localhost:8080/",
          "height": 566
        },
        "id": "hz1GC6senyEu",
        "outputId": "4283c067-a135-4e52-f5b6-5f865b12e6f1"
      },
      "execution_count": 31,
      "outputs": [
        {
          "output_type": "stream",
          "name": "stdout",
          "text": [
            "classification Report\n",
            "              precision    recall  f1-score   support\n",
            "\n",
            "           0       1.00      0.99      0.99     56863\n",
            "           1       0.10      0.87      0.17        98\n",
            "\n",
            "    accuracy                           0.99     56961\n",
            "   macro avg       0.55      0.93      0.58     56961\n",
            "weighted avg       1.00      0.99      0.99     56961\n",
            "\n"
          ]
        },
        {
          "output_type": "display_data",
          "data": {
            "text/plain": [
              "<Figure size 432x288 with 1 Axes>"
            ],
            "image/png": "[encoded data removed]"
          },
          "metadata": {
            "needs_background": "light"
          }
        },
        {
          "output_type": "stream",
          "name": "stdout",
          "text": [
            "1781/1781 [==============================] - 1s 789us/step - loss: 0.0324 - accuracy: 0.9977\n",
            "Accuracy NEURAL NETWORK: 0.9976650476455688\n"
          ]
        }
      ]
    },
    {
      "cell_type": "code",
      "source": [
        "#Neural networks with ADASYN Model"
      ],
      "metadata": {
        "id": "qMDatDICgQdF"
      },
      "execution_count": null,
      "outputs": []
    },
    {
      "cell_type": "code",
      "source": [
        "# Creating dataframe with ADASYN and StratifiedKFold\n",
        "from sklearn.model_selection import StratifiedKFold\n",
        "from imblearn import over_sampling\n",
        "\n",
        "skf = StratifiedKFold(n_splits=5, random_state=None)\n",
        "\n",
        "for fold, (train_index, test_index) in enumerate(skf.split(X,y), 1):\n",
        "    X_train = X.loc[train_index]\n",
        "    y_train = y.loc[train_index] \n",
        "    X_test = X.loc[test_index]\n",
        "    y_test = y.loc[test_index]  \n",
        "    ADASYN = over_sampling.ADASYN(random_state=0)\n",
        "    X_train_ADASYN, y_train_ADASYN= ADASYN.fit_resample(X_train, y_train)\n"
      ],
      "metadata": {
        "id": "hB4ZbmupgZey"
      },
      "execution_count": 32,
      "outputs": []
    },
    {
      "cell_type": "code",
      "source": [
        "X_train_ADASYN= np.array(X_train_ADASYN)\n",
        "X_test = np.array(X_test)\n",
        "y_train_ADASYN = np.array(y_train_ADASYN)\n",
        "y_test = np.array(y_test)"
      ],
      "metadata": {
        "id": "Fsrfo4RGgmX8"
      },
      "execution_count": 33,
      "outputs": []
    },
    {
      "cell_type": "code",
      "source": [
        "#Training a Multi-layer perceptron with 1 hidden layer on Oversampled dataset without using dropout and, using the parameters tuned above.\n",
        "n_inputs = X_train_ADASYN.shape[1]\n",
        "es= keras.callbacks.EarlyStopping(monitor='val_loss',\n",
        "                              min_delta=0,\n",
        "                              patience=2,\n",
        "                              verbose=0, mode='min', restore_best_weights= True)\n",
        "#Model Creation\n",
        "Model2 = Sequential()\n",
        "Model2.add(Dense(65, input_shape=(n_inputs, ), kernel_initializer='he_normal', activation='relu'))\n",
        "Model2.add(Dense(1, kernel_initializer='he_normal', activation='sigmoid'))\n",
        "\n",
        "#Compile Model\n",
        "Model2.compile(Adam(lr=0.01), loss='binary_crossentropy', metrics=['accuracy'])\n",
        "Model2.summary()\n",
        "\n",
        "#Fit Model\n",
        "history2= Model1.fit(X_train_ADASYN, y_train_ADASYN, validation_data=(X_test,y_test), batch_size=700, epochs=30, shuffle=True, verbose=1)\n",
        "print(history2.history.keys())"
      ],
      "metadata": {
        "colab": {
          "base_uri": "https://localhost:8080/"
        },
        "id": "Zst8l9fHhCfK",
        "outputId": "1c1ddea6-0267-48ca-f1e0-7e29845cf3f4"
      },
      "execution_count": 34,
      "outputs": [
        {
          "output_type": "stream",
          "name": "stdout",
          "text": [
            "Model: \"sequential_2\"\n",
            "_________________________________________________________________\n",
            " Layer (type)                Output Shape              Param #   \n",
            "=================================================================\n",
            " dense_4 (Dense)             (None, 65)                2015      \n",
            "                                                                 \n",
            " dense_5 (Dense)             (None, 1)                 66        \n",
            "                                                                 \n",
            "=================================================================\n",
            "Total params: 2,081\n",
            "Trainable params: 2,081\n",
            "Non-trainable params: 0\n",
            "_________________________________________________________________\n",
            "Epoch 1/30\n",
            " 38/650 [>.............................] - ETA: 0s - loss: 0.0197 - accuracy: 0.9953"
          ]
        },
        {
          "output_type": "stream",
          "name": "stderr",
          "text": [
            "/usr/local/lib/python3.7/dist-packages/keras/optimizer_v2/adam.py:105: UserWarning: The `lr` argument is deprecated, use `learning_rate` instead.\n",
            "  super(Adam, self).__init__(name, **kwargs)\n"
          ]
        },
        {
          "output_type": "stream",
          "name": "stdout",
          "text": [
            "650/650 [==============================] - 1s 2ms/step - loss: 0.0080 - accuracy: 0.9981 - val_loss: 0.0437 - val_accuracy: 0.9954\n",
            "Epoch 2/30\n",
            "650/650 [==============================] - 1s 2ms/step - loss: 0.0087 - accuracy: 0.9982 - val_loss: 0.0345 - val_accuracy: 0.9979\n",
            "Epoch 3/30\n",
            "650/650 [==============================] - 1s 1ms/step - loss: 0.0047 - accuracy: 0.9989 - val_loss: 0.0324 - val_accuracy: 0.9981\n",
            "Epoch 4/30\n",
            "650/650 [==============================] - 1s 1ms/step - loss: 0.0064 - accuracy: 0.9985 - val_loss: 0.0376 - val_accuracy: 0.9971\n",
            "Epoch 5/30\n",
            "650/650 [==============================] - 1s 1ms/step - loss: 0.0060 - accuracy: 0.9986 - val_loss: 0.0425 - val_accuracy: 0.9960\n",
            "Epoch 6/30\n",
            "650/650 [==============================] - 1s 2ms/step - loss: 0.0068 - accuracy: 0.9983 - val_loss: 0.0392 - val_accuracy: 0.9977\n",
            "Epoch 7/30\n",
            "650/650 [==============================] - 1s 2ms/step - loss: 0.0042 - accuracy: 0.9992 - val_loss: 0.0444 - val_accuracy: 0.9962\n",
            "Epoch 8/30\n",
            "650/650 [==============================] - 1s 2ms/step - loss: 0.0044 - accuracy: 0.9991 - val_loss: 0.0508 - val_accuracy: 0.9947\n",
            "Epoch 9/30\n",
            "650/650 [==============================] - 1s 1ms/step - loss: 0.0052 - accuracy: 0.9988 - val_loss: 0.0412 - val_accuracy: 0.9977\n",
            "Epoch 10/30\n",
            "650/650 [==============================] - 1s 1ms/step - loss: 0.0053 - accuracy: 0.9988 - val_loss: 0.0519 - val_accuracy: 0.9939\n",
            "Epoch 11/30\n",
            "650/650 [==============================] - 1s 1ms/step - loss: 0.0060 - accuracy: 0.9986 - val_loss: 0.0380 - val_accuracy: 0.9982\n",
            "Epoch 12/30\n",
            "650/650 [==============================] - 1s 1ms/step - loss: 0.0063 - accuracy: 0.9988 - val_loss: 0.0438 - val_accuracy: 0.9975\n",
            "Epoch 13/30\n",
            "650/650 [==============================] - 1s 2ms/step - loss: 0.0031 - accuracy: 0.9993 - val_loss: 0.0447 - val_accuracy: 0.9978\n",
            "Epoch 14/30\n",
            "650/650 [==============================] - 1s 2ms/step - loss: 0.0047 - accuracy: 0.9988 - val_loss: 0.0490 - val_accuracy: 0.9972\n",
            "Epoch 15/30\n",
            "650/650 [==============================] - 1s 1ms/step - loss: 0.0045 - accuracy: 0.9990 - val_loss: 0.0474 - val_accuracy: 0.9971\n",
            "Epoch 16/30\n",
            "650/650 [==============================] - 1s 2ms/step - loss: 0.0045 - accuracy: 0.9991 - val_loss: 0.0551 - val_accuracy: 0.9959\n",
            "Epoch 17/30\n",
            "650/650 [==============================] - 1s 1ms/step - loss: 0.0081 - accuracy: 0.9982 - val_loss: 0.0538 - val_accuracy: 0.9953\n",
            "Epoch 18/30\n",
            "650/650 [==============================] - 1s 1ms/step - loss: 0.0035 - accuracy: 0.9993 - val_loss: 0.0467 - val_accuracy: 0.9985\n",
            "Epoch 19/30\n",
            "650/650 [==============================] - 1s 2ms/step - loss: 0.0054 - accuracy: 0.9988 - val_loss: 0.0467 - val_accuracy: 0.9985\n",
            "Epoch 20/30\n",
            "650/650 [==============================] - 1s 1ms/step - loss: 0.0069 - accuracy: 0.9982 - val_loss: 0.0509 - val_accuracy: 0.9979\n",
            "Epoch 21/30\n",
            "650/650 [==============================] - 1s 1ms/step - loss: 0.0046 - accuracy: 0.9989 - val_loss: 0.0572 - val_accuracy: 0.9958\n",
            "Epoch 22/30\n",
            "650/650 [==============================] - 1s 1ms/step - loss: 0.0041 - accuracy: 0.9989 - val_loss: 0.0485 - val_accuracy: 0.9965\n",
            "Epoch 23/30\n",
            "650/650 [==============================] - 1s 1ms/step - loss: 0.0065 - accuracy: 0.9985 - val_loss: 0.0591 - val_accuracy: 0.9966\n",
            "Epoch 24/30\n",
            "650/650 [==============================] - 1s 1ms/step - loss: 0.0054 - accuracy: 0.9987 - val_loss: 0.0554 - val_accuracy: 0.9973\n",
            "Epoch 25/30\n",
            "650/650 [==============================] - 1s 1ms/step - loss: 0.0038 - accuracy: 0.9993 - val_loss: 0.0569 - val_accuracy: 0.9978\n",
            "Epoch 26/30\n",
            "650/650 [==============================] - 1s 2ms/step - loss: 0.0062 - accuracy: 0.9987 - val_loss: 0.0643 - val_accuracy: 0.9961\n",
            "Epoch 27/30\n",
            "650/650 [==============================] - 1s 1ms/step - loss: 0.0044 - accuracy: 0.9991 - val_loss: 0.0555 - val_accuracy: 0.9975\n",
            "Epoch 28/30\n",
            "650/650 [==============================] - 1s 1ms/step - loss: 0.0037 - accuracy: 0.9992 - val_loss: 0.0561 - val_accuracy: 0.9973\n",
            "Epoch 29/30\n",
            "650/650 [==============================] - 1s 1ms/step - loss: 0.0058 - accuracy: 0.9991 - val_loss: 0.0542 - val_accuracy: 0.9979\n",
            "Epoch 30/30\n",
            "650/650 [==============================] - 1s 1ms/step - loss: 0.0037 - accuracy: 0.9992 - val_loss: 0.0533 - val_accuracy: 0.9984\n",
            "dict_keys(['loss', 'accuracy', 'val_loss', 'val_accuracy'])\n"
          ]
        }
      ]
    },
    {
      "cell_type": "code",
      "source": [
        "# summarize history for accuracy\n",
        "plt.plot(history2.history['accuracy'])\n",
        "plt.plot(history2.history['val_accuracy'])\n",
        "plt.title('model accuracy')\n",
        "plt.ylabel('accuracy')\n",
        "plt.xlabel('epoch')\n",
        "plt.legend(['train', 'val'], loc='upper left')\n",
        "plt.show()\n",
        "# summarize history for loss\n",
        "plt.plot(history2.history['loss'])\n",
        "plt.plot(history2.history['val_loss'])\n",
        "plt.title('model loss')\n",
        "plt.ylabel('loss')\n",
        "plt.xlabel('epoch')\n",
        "plt.legend(['train', 'val'], loc='upper left')\n",
        "plt.show()"
      ],
      "metadata": {
        "colab": {
          "base_uri": "https://localhost:8080/",
          "height": 573
        },
        "id": "HU2CeadQh2_s",
        "outputId": "f45b7582-c67e-49f1-a1f2-267b31e81619"
      },
      "execution_count": 35,
      "outputs": [
        {
          "output_type": "display_data",
          "data": {
            "text/plain": [
              "<Figure size 432x288 with 1 Axes>"
            ],
            "image/png": "[encoded data removed]"
          },
          "metadata": {
            "needs_background": "light"
          }
        },
        {
          "output_type": "display_data",
          "data": {
            "text/plain": [
              "<Figure size 432x288 with 1 Axes>"
            ],
            "image/png": "[encoded data removed]"
          },
          "metadata": {
            "needs_background": "light"
          }
        }
      ]
    },
    {
      "cell_type": "code",
      "source": [
        "ADSYN_predict_Value = Model2.predict(X_test, batch_size=200, verbose=0)"
      ],
      "metadata": {
        "id": "AddZATddiPk6"
      },
      "execution_count": 36,
      "outputs": []
    },
    {
      "cell_type": "code",
      "source": [
        "POSITIVE_FRAUD_THRESHOLD = 0.05\n",
        "NEGATIVE_FRAUD_THRESHOLD = -0.05\n",
        "ADSYNfraud = []\n",
        "for fraud_score in ADSYN_predict_Value:\n",
        "  if fraud_score >= POSITIVE_FRAUD_THRESHOLD:\n",
        "    ADSYNfraud.append(1)\n",
        "  else:\n",
        "    ADSYNfraud.append(0)\n",
        " "
      ],
      "metadata": {
        "id": "AXOx46b4hpW1"
      },
      "execution_count": 37,
      "outputs": []
    },
    {
      "cell_type": "code",
      "source": [
        "#create Ensemble model and fit the model with train dataset\n",
        "Y_pred_cls = Model2.predict(X_test, batch_size=200, verbose=0)\n",
        "print(\"classification Report\")\n",
        "print(classification_report(y_test, ADSYNfraud))\n",
        "Plot_confusion_matrix(y_test,ADSYNfraud)\n",
        "print('Accuracy NEURAL NETWORK: '+ str(Model2.evaluate(X_test,y_test)[1]))"
      ],
      "metadata": {
        "colab": {
          "base_uri": "https://localhost:8080/",
          "height": 695
        },
        "id": "1SmbWvMqiXQK",
        "outputId": "d335d6b1-2391-4fce-bf75-7eba36762d59"
      },
      "execution_count": 39,
      "outputs": [
        {
          "output_type": "stream",
          "name": "stdout",
          "text": [
            "classification Report\n"
          ]
        },
        {
          "output_type": "stream",
          "name": "stderr",
          "text": [
            "/usr/local/lib/python3.7/dist-packages/sklearn/metrics/_classification.py:1318: UndefinedMetricWarning: Precision and F-score are ill-defined and being set to 0.0 in labels with no predicted samples. Use `zero_division` parameter to control this behavior.\n",
            "  _warn_prf(average, modifier, msg_start, len(result))\n",
            "/usr/local/lib/python3.7/dist-packages/sklearn/metrics/_classification.py:1318: UndefinedMetricWarning: Precision and F-score are ill-defined and being set to 0.0 in labels with no predicted samples. Use `zero_division` parameter to control this behavior.\n",
            "  _warn_prf(average, modifier, msg_start, len(result))\n",
            "/usr/local/lib/python3.7/dist-packages/sklearn/metrics/_classification.py:1318: UndefinedMetricWarning: Precision and F-score are ill-defined and being set to 0.0 in labels with no predicted samples. Use `zero_division` parameter to control this behavior.\n",
            "  _warn_prf(average, modifier, msg_start, len(result))\n"
          ]
        },
        {
          "output_type": "stream",
          "name": "stdout",
          "text": [
            "              precision    recall  f1-score   support\n",
            "\n",
            "           0       0.00      0.00      0.00     56863\n",
            "           1       0.00      1.00      0.00        98\n",
            "\n",
            "    accuracy                           0.00     56961\n",
            "   macro avg       0.00      0.50      0.00     56961\n",
            "weighted avg       0.00      0.00      0.00     56961\n",
            "\n"
          ]
        },
        {
          "output_type": "display_data",
          "data": {
            "text/plain": [
              "<Figure size 432x288 with 1 Axes>"
            ],
            "image/png": "[encoded data removed]"
          },
          "metadata": {
            "needs_background": "light"
          }
        },
        {
          "output_type": "stream",
          "name": "stdout",
          "text": [
            "1781/1781 [==============================] - 2s 868us/step - loss: 7.5250 - accuracy: 0.0391\n",
            "Accuracy NEURAL NETWORK: 0.03914959356188774\n"
          ]
        }
      ]
    },
    {
      "cell_type": "code",
      "source": [
        "#Training a Multi-layer perceptron with 1 hidden layer on Oversampled dataset using the parameters tuned above and adding a Dropout.\n",
        "n_inputs = X_train_ADASYN.shape[1]\n",
        "es= keras.callbacks.EarlyStopping(monitor='val_loss',\n",
        "                              min_delta=0,\n",
        "                              patience=2,\n",
        "                              verbose=0, mode='min', restore_best_weights= True)\n",
        "Model2_drop = Sequential()\n",
        "Model2_drop.add(Dense(65, input_shape=(n_inputs, ), kernel_initializer='he_normal', activation='relu'))\n",
        "Model2_drop.add(Dropout(0.5))\n",
        "Model2_drop.add(Dense(1, kernel_initializer='he_normal', activation='sigmoid'))\n",
        "\n",
        "Model2_drop.compile(Adam(lr=0.001), loss='binary_crossentropy', metrics=['accuracy'])\n",
        "Model2_drop.summary()\n",
        "\n",
        "Result2= Model2_drop.fit(X_train_ADASYN, y_train_ADASYN, validation_data=(X_test, y_test), batch_size=700, epochs=50, callbacks=[es], shuffle=True, verbose=2)\n",
        "print(Result2.history.keys())"
      ],
      "metadata": {
        "colab": {
          "base_uri": "https://localhost:8080/"
        },
        "id": "sZ-nP95uy9U9",
        "outputId": "673fc159-1f1b-4d14-e2ba-567109f15d83"
      },
      "execution_count": 40,
      "outputs": [
        {
          "output_type": "stream",
          "name": "stdout",
          "text": [
            "Model: \"sequential_3\"\n",
            "_________________________________________________________________\n",
            " Layer (type)                Output Shape              Param #   \n",
            "=================================================================\n",
            " dense_6 (Dense)             (None, 65)                2015      \n",
            "                                                                 \n",
            " dropout_1 (Dropout)         (None, 65)                0         \n",
            "                                                                 \n",
            " dense_7 (Dense)             (None, 1)                 66        \n",
            "                                                                 \n",
            "=================================================================\n",
            "Total params: 2,081\n",
            "Trainable params: 2,081\n",
            "Non-trainable params: 0\n",
            "_________________________________________________________________\n",
            "Epoch 1/50\n"
          ]
        },
        {
          "output_type": "stream",
          "name": "stderr",
          "text": [
            "/usr/local/lib/python3.7/dist-packages/keras/optimizer_v2/adam.py:105: UserWarning: The `lr` argument is deprecated, use `learning_rate` instead.\n",
            "  super(Adam, self).__init__(name, **kwargs)\n"
          ]
        },
        {
          "output_type": "stream",
          "name": "stdout",
          "text": [
            "650/650 - 2s - loss: 2.3666 - accuracy: 0.8257 - val_loss: 0.0557 - val_accuracy: 0.9880 - 2s/epoch - 4ms/step\n",
            "Epoch 2/50\n",
            "650/650 - 2s - loss: 0.1576 - accuracy: 0.9407 - val_loss: 0.0426 - val_accuracy: 0.9869 - 2s/epoch - 3ms/step\n",
            "Epoch 3/50\n",
            "650/650 - 1s - loss: 0.1218 - accuracy: 0.9554 - val_loss: 0.0375 - val_accuracy: 0.9868 - 1s/epoch - 2ms/step\n",
            "Epoch 4/50\n",
            "650/650 - 1s - loss: 0.1026 - accuracy: 0.9637 - val_loss: 0.0262 - val_accuracy: 0.9900 - 1s/epoch - 2ms/step\n",
            "Epoch 5/50\n",
            "650/650 - 1s - loss: 0.0851 - accuracy: 0.9716 - val_loss: 0.0213 - val_accuracy: 0.9922 - 1s/epoch - 2ms/step\n",
            "Epoch 6/50\n",
            "650/650 - 1s - loss: 0.0712 - accuracy: 0.9777 - val_loss: 0.0179 - val_accuracy: 0.9941 - 1s/epoch - 2ms/step\n",
            "Epoch 7/50\n",
            "650/650 - 1s - loss: 0.0645 - accuracy: 0.9804 - val_loss: 0.0207 - val_accuracy: 0.9925 - 1s/epoch - 2ms/step\n",
            "Epoch 8/50\n",
            "650/650 - 1s - loss: 0.0554 - accuracy: 0.9834 - val_loss: 0.0182 - val_accuracy: 0.9938 - 1s/epoch - 2ms/step\n",
            "dict_keys(['loss', 'accuracy', 'val_loss', 'val_accuracy'])\n"
          ]
        }
      ]
    },
    {
      "cell_type": "code",
      "source": [
        "# summarize history for accuracy\n",
        "plt.plot(Result2.history['accuracy'])\n",
        "plt.plot(Result2.history['val_accuracy'])\n",
        "plt.title('model accuracy')\n",
        "plt.ylabel('accuracy')\n",
        "plt.xlabel('epoch')\n",
        "plt.legend(['train', 'val'], loc='upper left')\n",
        "plt.show()\n",
        "# summarize history for loss\n",
        "plt.plot(Result2.history['loss'])\n",
        "plt.plot(Result2.history['val_loss'])\n",
        "plt.title('model loss')\n",
        "plt.ylabel('loss')\n",
        "plt.xlabel('epoch')\n",
        "plt.legend(['train', 'val'], loc='upper left')\n",
        "plt.show()"
      ],
      "metadata": {
        "colab": {
          "base_uri": "https://localhost:8080/",
          "height": 573
        },
        "id": "Vd51WYLX1fBG",
        "outputId": "2defa50b-ed71-47ff-a724-fd0cc20f97b8"
      },
      "execution_count": 41,
      "outputs": [
        {
          "output_type": "display_data",
          "data": {
            "text/plain": [
              "<Figure size 432x288 with 1 Axes>"
            ],
            "image/png": "[encoded data removed]"
          },
          "metadata": {
            "needs_background": "light"
          }
        },
        {
          "output_type": "display_data",
          "data": {
            "text/plain": [
              "<Figure size 432x288 with 1 Axes>"
            ],
            "image/png": "[encoded data removed]"
          },
          "metadata": {
            "needs_background": "light"
          }
        }
      ]
    },
    {
      "cell_type": "code",
      "source": [
        "ADSYN_predict_Value_dropout = Model2_drop.predict(X_test, batch_size=200, verbose=0)"
      ],
      "metadata": {
        "id": "qnMcziBn1reK"
      },
      "execution_count": 42,
      "outputs": []
    },
    {
      "cell_type": "code",
      "source": [
        "POSITIVE_FRAUD_THRESHOLD = 0.05\n",
        "NEGATIVE_FRAUD_THRESHOLD = -0.05\n",
        "ADSYNfrauddropout = []\n",
        "for fraud_score in ADSYN_predict_Value_dropout:\n",
        "  if fraud_score >= POSITIVE_FRAUD_THRESHOLD:\n",
        "    ADSYNfrauddropout.append(1)\n",
        "  else:\n",
        "    ADSYNfrauddropout.append(0)\n",
        " "
      ],
      "metadata": {
        "id": "Rv56p-521reK"
      },
      "execution_count": 43,
      "outputs": []
    },
    {
      "cell_type": "code",
      "source": [
        "#create deep model and fit the model with train dataset\n",
        "Y_pred_cls = Model2_drop.predict(X_test, batch_size=200, verbose=0)\n",
        "print(\"classification Report\")\n",
        "print(classification_report(y_test, ADSYNfrauddropout))\n",
        "Plot_confusion_matrix(y_test,ADSYNfrauddropout)\n",
        "print('Accuracy NEURAL NETWORK: '+ str(Model2_drop.evaluate(X_test,y_test)[1]))"
      ],
      "metadata": {
        "colab": {
          "base_uri": "https://localhost:8080/",
          "height": 566
        },
        "outputId": "a25c3195-4228-4696-bed4-634cdf190e91",
        "id": "N-MSIsy71-NG"
      },
      "execution_count": 44,
      "outputs": [
        {
          "output_type": "stream",
          "name": "stdout",
          "text": [
            "classification Report\n",
            "              precision    recall  f1-score   support\n",
            "\n",
            "           0       1.00      0.97      0.99     56863\n",
            "           1       0.05      0.89      0.10        98\n",
            "\n",
            "    accuracy                           0.97     56961\n",
            "   macro avg       0.53      0.93      0.54     56961\n",
            "weighted avg       1.00      0.97      0.98     56961\n",
            "\n"
          ]
        },
        {
          "output_type": "display_data",
          "data": {
            "text/plain": [
              "<Figure size 432x288 with 1 Axes>"
            ],
            "image/png": "[encoded data removed]"
          },
          "metadata": {
            "needs_background": "light"
          }
        },
        {
          "output_type": "stream",
          "name": "stdout",
          "text": [
            "1781/1781 [==============================] - 2s 933us/step - loss: 0.0179 - accuracy: 0.9941\n",
            "Accuracy NEURAL NETWORK: 0.9941363334655762\n"
          ]
        }
      ]
    },
    {
      "cell_type": "code",
      "source": [
        "#Neural Network with SMOTE\n",
        "# Creating dataframe with Smote and StratifiedKFold\n",
        "from sklearn.model_selection import StratifiedKFold\n",
        "from imblearn import over_sampling\n",
        "\n",
        "skf = StratifiedKFold(n_splits=5, random_state=None)\n",
        "\n",
        "for fold, (train_index, test_index) in enumerate(skf.split(X,y), 1):\n",
        "    X_train = X.loc[train_index]\n",
        "    y_train = y.loc[train_index] \n",
        "    X_test = X.loc[test_index]\n",
        "    y_test = y.loc[test_index]  \n",
        "    SMOTE = over_sampling.SMOTE(random_state=0)\n",
        "    X_train_Smote, y_train_Smote= SMOTE.fit_resample(X_train, y_train)"
      ],
      "metadata": {
        "id": "oBFu7fUyixJx"
      },
      "execution_count": 45,
      "outputs": []
    },
    {
      "cell_type": "code",
      "source": [
        "#Training a Multi-layer perceptron with 1 hidden layer on Oversampled dataset without using dropout and, using the parameters tuned above.\n",
        "n_inputs = X_train_Smote.shape[1]\n",
        "es= keras.callbacks.EarlyStopping(monitor='val_loss',\n",
        "                              min_delta=0,\n",
        "                              patience=2,\n",
        "                              verbose=0, mode='min', restore_best_weights= True)\n",
        "#Model Creation\n",
        "Model3 = Sequential()\n",
        "Model3.add(Dense(65, input_shape=(n_inputs, ), kernel_initializer='he_normal', activation='relu'))\n",
        "Model3.add(Dense(1, kernel_initializer='he_normal', activation='sigmoid'))\n",
        "\n",
        "#Compile Model\n",
        "\n",
        "Model3.compile(Adam(lr=0.01), loss='binary_crossentropy', metrics=['accuracy'])\n",
        "Model3.summary()\n",
        "\n",
        "#Fit Model\n",
        "history3=Model3.fit(X_train_Smote, y_train_Smote, validation_data=(X_train_Smote,y_train_Smote), batch_size=700, epochs=30, callbacks=[es], shuffle=True, verbose=2)\n",
        "print(history3.history.keys())"
      ],
      "metadata": {
        "colab": {
          "base_uri": "https://localhost:8080/"
        },
        "id": "LhkGXu8ojMkZ",
        "outputId": "8c9d4ea2-8284-49ef-a2f1-c4fc686eef90"
      },
      "execution_count": 46,
      "outputs": [
        {
          "output_type": "stream",
          "name": "stdout",
          "text": [
            "Model: \"sequential_4\"\n",
            "_________________________________________________________________\n",
            " Layer (type)                Output Shape              Param #   \n",
            "=================================================================\n",
            " dense_8 (Dense)             (None, 65)                2015      \n",
            "                                                                 \n",
            " dense_9 (Dense)             (None, 1)                 66        \n",
            "                                                                 \n",
            "=================================================================\n",
            "Total params: 2,081\n",
            "Trainable params: 2,081\n",
            "Non-trainable params: 0\n",
            "_________________________________________________________________\n",
            "Epoch 1/30\n"
          ]
        },
        {
          "output_type": "stream",
          "name": "stderr",
          "text": [
            "/usr/local/lib/python3.7/dist-packages/keras/optimizer_v2/adam.py:105: UserWarning: The `lr` argument is deprecated, use `learning_rate` instead.\n",
            "  super(Adam, self).__init__(name, **kwargs)\n"
          ]
        },
        {
          "output_type": "stream",
          "name": "stdout",
          "text": [
            "650/650 - 2s - loss: 0.2497 - accuracy: 0.9664 - val_loss: 0.0422 - val_accuracy: 0.9885 - 2s/epoch - 3ms/step\n",
            "Epoch 2/30\n",
            "650/650 - 1s - loss: 0.0384 - accuracy: 0.9910 - val_loss: 0.0197 - val_accuracy: 0.9948 - 1s/epoch - 2ms/step\n",
            "Epoch 3/30\n",
            "650/650 - 1s - loss: 0.0268 - accuracy: 0.9939 - val_loss: 0.0143 - val_accuracy: 0.9960 - 1s/epoch - 2ms/step\n",
            "Epoch 4/30\n",
            "650/650 - 1s - loss: 0.0350 - accuracy: 0.9938 - val_loss: 0.0183 - val_accuracy: 0.9950 - 1s/epoch - 2ms/step\n",
            "Epoch 5/30\n",
            "650/650 - 1s - loss: 0.0139 - accuracy: 0.9967 - val_loss: 0.0125 - val_accuracy: 0.9967 - 1s/epoch - 2ms/step\n",
            "Epoch 6/30\n",
            "650/650 - 1s - loss: 0.0151 - accuracy: 0.9965 - val_loss: 0.0078 - val_accuracy: 0.9985 - 1s/epoch - 2ms/step\n",
            "Epoch 7/30\n",
            "650/650 - 1s - loss: 0.0151 - accuracy: 0.9966 - val_loss: 0.0101 - val_accuracy: 0.9974 - 1s/epoch - 2ms/step\n",
            "Epoch 8/30\n",
            "650/650 - 2s - loss: 0.0115 - accuracy: 0.9972 - val_loss: 0.0108 - val_accuracy: 0.9982 - 2s/epoch - 2ms/step\n",
            "dict_keys(['loss', 'accuracy', 'val_loss', 'val_accuracy'])\n"
          ]
        }
      ]
    },
    {
      "cell_type": "code",
      "source": [
        "# summarize history for accuracy\n",
        "plt.plot(history3.history['accuracy'])\n",
        "plt.plot(history3.history['val_accuracy'])\n",
        "plt.title('model accuracy')\n",
        "plt.ylabel('accuracy')\n",
        "plt.xlabel('epoch')\n",
        "plt.legend(['train', 'val'], loc='upper left')\n",
        "plt.show()\n",
        "# summarize history for loss\n",
        "plt.plot(history3.history['loss'])\n",
        "plt.plot(history3.history['val_loss'])\n",
        "plt.title('model loss')\n",
        "plt.ylabel('loss')\n",
        "plt.xlabel('epoch')\n",
        "plt.legend(['train', 'val'], loc='upper left')\n",
        "plt.show()"
      ],
      "metadata": {
        "colab": {
          "base_uri": "https://localhost:8080/",
          "height": 573
        },
        "id": "z51xbjZrjffJ",
        "outputId": "eb4e6917-019d-43a6-beac-8c80a01f4c3b"
      },
      "execution_count": 47,
      "outputs": [
        {
          "output_type": "display_data",
          "data": {
            "text/plain": [
              "<Figure size 432x288 with 1 Axes>"
            ],
            "image/png": "[encoded data removed]"
          },
          "metadata": {
            "needs_background": "light"
          }
        },
        {
          "output_type": "display_data",
          "data": {
            "text/plain": [
              "<Figure size 432x288 with 1 Axes>"
            ],
            "image/png": "[encoded data removed]"
          },
          "metadata": {
            "needs_background": "light"
          }
        }
      ]
    },
    {
      "cell_type": "code",
      "source": [
        "SMOTE_predict_Value = Model3.predict(X_test, batch_size=200, verbose=0)"
      ],
      "metadata": {
        "id": "EAiEVpDnj1eK"
      },
      "execution_count": 48,
      "outputs": []
    },
    {
      "cell_type": "code",
      "source": [
        "POSITIVE_FRAUD_THRESHOLD = 0.05\n",
        "NEGATIVE_FRAUD_THRESHOLD = -0.05\n",
        "SMOTEfraud = []\n",
        "for fraud_score in SMOTE_predict_Value:\n",
        "  if fraud_score >= POSITIVE_FRAUD_THRESHOLD:\n",
        "    SMOTEfraud.append(1)\n",
        "  else:\n",
        "    SMOTEfraud.append(0)"
      ],
      "metadata": {
        "id": "eZ5ISmf0j-Nx"
      },
      "execution_count": 49,
      "outputs": []
    },
    {
      "cell_type": "code",
      "source": [
        "#create deep model and fit the model with train dataset\n",
        "Y_pred_cls = Model3.predict(X_test, batch_size=200, verbose=0)\n",
        "print(\"classification Report\")\n",
        "print(classification_report(y_test, SMOTEfraud))\n",
        "Plot_confusion_matrix(y_test,SMOTEfraud)\n",
        "print('Accuracy NEURAL NETWORK: '+ str(Model3.evaluate(X_test,y_test)[1]))"
      ],
      "metadata": {
        "colab": {
          "base_uri": "https://localhost:8080/",
          "height": 566
        },
        "id": "dfT_6JPqkFdc",
        "outputId": "fbba5a82-670d-48c8-c2f5-a9ddc83e02a5"
      },
      "execution_count": 50,
      "outputs": [
        {
          "output_type": "stream",
          "name": "stdout",
          "text": [
            "classification Report\n",
            "              precision    recall  f1-score   support\n",
            "\n",
            "           0       1.00      0.99      1.00     56863\n",
            "           1       0.12      0.74      0.21        98\n",
            "\n",
            "    accuracy                           0.99     56961\n",
            "   macro avg       0.56      0.87      0.60     56961\n",
            "weighted avg       1.00      0.99      0.99     56961\n",
            "\n"
          ]
        },
        {
          "output_type": "display_data",
          "data": {
            "text/plain": [
              "<Figure size 432x288 with 1 Axes>"
            ],
            "image/png": "[encoded data removed]"
          },
          "metadata": {
            "needs_background": "light"
          }
        },
        {
          "output_type": "stream",
          "name": "stdout",
          "text": [
            "1781/1781 [==============================] - 2s 905us/step - loss: 0.0215 - accuracy: 0.9967\n",
            "Accuracy NEURAL NETWORK: 0.996734619140625\n"
          ]
        }
      ]
    },
    {
      "cell_type": "code",
      "source": [
        "#Training a Multi-layer perceptron with 1 hidden layer on Oversampled dataset using the parameters tuned above and adding a Dropout.\n",
        "n_inputs = X_train_Smote.shape[1]\n",
        "es= keras.callbacks.EarlyStopping(monitor='val_loss',\n",
        "                              min_delta=0,\n",
        "                              patience=2,\n",
        "                              verbose=0, mode='min', restore_best_weights= True)\n",
        "Model3_drop = Sequential()\n",
        "Model3_drop.add(Dense(65, input_shape=(n_inputs, ), kernel_initializer='he_normal', activation='relu'))\n",
        "Model3_drop.add(Dropout(0.5))\n",
        "Model3_drop.add(Dense(1, kernel_initializer='he_normal', activation='sigmoid'))\n",
        "\n",
        "Model3_drop.compile(Adam(lr=0.001), loss='binary_crossentropy', metrics=['accuracy'])\n",
        "Model3_drop.summary()\n",
        "\n",
        "Result3= Model3_drop.fit(X_train_Smote, y_train_Smote, validation_data=(X_test, y_test), batch_size=700, epochs=50, callbacks=[es], shuffle=True, verbose=2)\n",
        "print(Result3.history.keys())"
      ],
      "metadata": {
        "colab": {
          "base_uri": "https://localhost:8080/"
        },
        "outputId": "3005a2bf-824b-4404-d183-244f653c8ddd",
        "id": "MLoC1-di2ban"
      },
      "execution_count": 51,
      "outputs": [
        {
          "output_type": "stream",
          "name": "stdout",
          "text": [
            "Model: \"sequential_5\"\n",
            "_________________________________________________________________\n",
            " Layer (type)                Output Shape              Param #   \n",
            "=================================================================\n",
            " dense_10 (Dense)            (None, 65)                2015      \n",
            "                                                                 \n",
            " dropout_2 (Dropout)         (None, 65)                0         \n",
            "                                                                 \n",
            " dense_11 (Dense)            (None, 1)                 66        \n",
            "                                                                 \n",
            "=================================================================\n",
            "Total params: 2,081\n",
            "Trainable params: 2,081\n",
            "Non-trainable params: 0\n",
            "_________________________________________________________________\n",
            "Epoch 1/50\n"
          ]
        },
        {
          "output_type": "stream",
          "name": "stderr",
          "text": [
            "/usr/local/lib/python3.7/dist-packages/keras/optimizer_v2/adam.py:105: UserWarning: The `lr` argument is deprecated, use `learning_rate` instead.\n",
            "  super(Adam, self).__init__(name, **kwargs)\n"
          ]
        },
        {
          "output_type": "stream",
          "name": "stdout",
          "text": [
            "650/650 - 2s - loss: 3.0027 - accuracy: 0.8503 - val_loss: 0.0299 - val_accuracy: 0.9947 - 2s/epoch - 3ms/step\n",
            "Epoch 2/50\n",
            "650/650 - 1s - loss: 0.1363 - accuracy: 0.9565 - val_loss: 0.0235 - val_accuracy: 0.9968 - 1s/epoch - 2ms/step\n",
            "Epoch 3/50\n",
            "650/650 - 1s - loss: 0.0976 - accuracy: 0.9668 - val_loss: 0.0229 - val_accuracy: 0.9958 - 1s/epoch - 2ms/step\n",
            "Epoch 4/50\n",
            "650/650 - 1s - loss: 0.0821 - accuracy: 0.9714 - val_loss: 0.0257 - val_accuracy: 0.9936 - 1s/epoch - 2ms/step\n",
            "Epoch 5/50\n",
            "650/650 - 1s - loss: 0.0727 - accuracy: 0.9745 - val_loss: 0.0225 - val_accuracy: 0.9943 - 1s/epoch - 2ms/step\n",
            "Epoch 6/50\n",
            "650/650 - 1s - loss: 0.0650 - accuracy: 0.9769 - val_loss: 0.0197 - val_accuracy: 0.9946 - 1s/epoch - 2ms/step\n",
            "Epoch 7/50\n",
            "650/650 - 1s - loss: 0.0581 - accuracy: 0.9795 - val_loss: 0.0243 - val_accuracy: 0.9926 - 1s/epoch - 2ms/step\n",
            "Epoch 8/50\n",
            "650/650 - 1s - loss: 0.0549 - accuracy: 0.9809 - val_loss: 0.0137 - val_accuracy: 0.9963 - 1s/epoch - 2ms/step\n",
            "Epoch 9/50\n",
            "650/650 - 1s - loss: 0.0485 - accuracy: 0.9827 - val_loss: 0.0136 - val_accuracy: 0.9965 - 1s/epoch - 2ms/step\n",
            "Epoch 10/50\n",
            "650/650 - 1s - loss: 0.0448 - accuracy: 0.9844 - val_loss: 0.0119 - val_accuracy: 0.9971 - 1s/epoch - 2ms/step\n",
            "Epoch 11/50\n",
            "650/650 - 1s - loss: 0.0417 - accuracy: 0.9854 - val_loss: 0.0138 - val_accuracy: 0.9965 - 1s/epoch - 2ms/step\n",
            "Epoch 12/50\n",
            "650/650 - 1s - loss: 0.0399 - accuracy: 0.9860 - val_loss: 0.0142 - val_accuracy: 0.9963 - 1s/epoch - 2ms/step\n",
            "dict_keys(['loss', 'accuracy', 'val_loss', 'val_accuracy'])\n"
          ]
        }
      ]
    },
    {
      "cell_type": "code",
      "source": [
        "# summarize history for accuracy\n",
        "plt.plot(Result3.history['accuracy'])\n",
        "plt.plot(Result3.history['val_accuracy'])\n",
        "plt.title('model accuracy')\n",
        "plt.ylabel('accuracy')\n",
        "plt.xlabel('epoch')\n",
        "plt.legend(['train', 'val'], loc='upper left')\n",
        "plt.show()\n",
        "# summarize history for loss\n",
        "plt.plot(Result3.history['loss'])\n",
        "plt.plot(Result3.history['val_loss'])\n",
        "plt.title('model loss')\n",
        "plt.ylabel('loss')\n",
        "plt.xlabel('epoch')\n",
        "plt.legend(['train', 'val'], loc='upper left')\n",
        "plt.show()"
      ],
      "metadata": {
        "colab": {
          "base_uri": "https://localhost:8080/",
          "height": 573
        },
        "outputId": "f8705612-5411-4d37-800b-36484a8263b7",
        "id": "fzFkUeVL2bao"
      },
      "execution_count": 52,
      "outputs": [
        {
          "output_type": "display_data",
          "data": {
            "text/plain": [
              "<Figure size 432x288 with 1 Axes>"
            ],
            "image/png": "[encoded data removed]"
          },
          "metadata": {
            "needs_background": "light"
          }
        },
        {
          "output_type": "display_data",
          "data": {
            "text/plain": [
              "<Figure size 432x288 with 1 Axes>"
            ],
            "image/png": "[encoded data removed]"
          },
          "metadata": {
            "needs_background": "light"
          }
        }
      ]
    },
    {
      "cell_type": "code",
      "source": [
        "Smote_predict_Value_dropout = Model3_drop.predict(X_test, batch_size=200, verbose=0)"
      ],
      "metadata": {
        "id": "ZpY0jgQ82bao"
      },
      "execution_count": 53,
      "outputs": []
    },
    {
      "cell_type": "code",
      "source": [
        "POSITIVE_FRAUD_THRESHOLD = 0.05\n",
        "NEGATIVE_FRAUD_THRESHOLD = -0.05\n",
        "Smotefrauddropout = []\n",
        "for fraud_score in Smote_predict_Value_dropout:\n",
        "  if fraud_score >= POSITIVE_FRAUD_THRESHOLD:\n",
        "    Smotefrauddropout.append(1)\n",
        "  else:\n",
        "    Smotefrauddropout.append(0)\n",
        " "
      ],
      "metadata": {
        "id": "rCuO--v32bao"
      },
      "execution_count": 54,
      "outputs": []
    },
    {
      "cell_type": "code",
      "source": [
        "#create deep model and fit the model with train dataset\n",
        "Y_pred_cls = Model3_drop.predict(X_test, batch_size=200, verbose=0)\n",
        "print(\"classification Report\")\n",
        "print(classification_report(y_test, Smotefrauddropout))\n",
        "Plot_confusion_matrix(y_test,Smotefrauddropout)\n",
        "print('Accuracy NEURAL NETWORK: '+ str(Model3_drop.evaluate(X_test,y_test)[1]))"
      ],
      "metadata": {
        "colab": {
          "base_uri": "https://localhost:8080/",
          "height": 566
        },
        "outputId": "07e9da8f-ffc5-4438-9114-b7c43489d353",
        "id": "ADSqhGvo2bao"
      },
      "execution_count": 56,
      "outputs": [
        {
          "output_type": "stream",
          "name": "stdout",
          "text": [
            "classification Report\n",
            "              precision    recall  f1-score   support\n",
            "\n",
            "           0       1.00      0.99      0.99     56863\n",
            "           1       0.09      0.87      0.17        98\n",
            "\n",
            "    accuracy                           0.98     56961\n",
            "   macro avg       0.55      0.93      0.58     56961\n",
            "weighted avg       1.00      0.98      0.99     56961\n",
            "\n"
          ]
        },
        {
          "output_type": "display_data",
          "data": {
            "text/plain": [
              "<Figure size 432x288 with 1 Axes>"
            ],
            "image/png": "[encoded data removed]"
          },
          "metadata": {
            "needs_background": "light"
          }
        },
        {
          "output_type": "stream",
          "name": "stdout",
          "text": [
            "1781/1781 [==============================] - 2s 1ms/step - loss: 0.0119 - accuracy: 0.9971\n",
            "Accuracy NEURAL NETWORK: 0.9971208572387695\n"
          ]
        }
      ]
    }
  ]
}